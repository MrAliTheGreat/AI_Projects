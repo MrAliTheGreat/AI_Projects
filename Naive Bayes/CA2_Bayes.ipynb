{
 "cells": [
  {
   "cell_type": "markdown",
   "metadata": {},
   "source": [
    "# Computer Assignment 2\n",
    "# Naive Bayes\n",
    "## Ali Bahari\n",
    "\n",
    "Project Name: Computer Assignment 2 Naive Bayes\n",
    "\n",
    "Project Goal: Use Naive Bayes to predict a book's category from it's name and description which is given in csv files.\n",
    "\n",
    "In this assignment we are using Naive Bayes and bag of words algorithm to predict the category of a book. First of all we will do some preprocessing on the train dataset which is consisted of merging name and description of each bok, removing punctuations, removing some of the whitespaces, removing stopwords, normalization, getting the words of the sentences and finally lemmatizing them. After that we will use the preprocessed train dataset to find the needed probabilities for our algorithm and by finding them we can use them to predict the books in the test dataset this prediction is done by finding the maximum probability and setting the class(category) of that probability to be our prediction."
   ]
  },
  {
   "cell_type": "code",
   "execution_count": 1,
   "metadata": {
    "scrolled": false
   },
   "outputs": [],
   "source": [
    "from __future__ import unicode_literals\n",
    "\n",
    "import pandas as pd\n",
    "from hazm import *\n",
    "import numpy as np\n",
    "import math\n",
    "\n",
    "\n",
    "trainDataframe = pd.read_csv(\"./books_train.csv\")\n",
    "trainDataframe[\"info\"] = trainDataframe[\"title\"] + trainDataframe[\"description\"]\n",
    "trainDataframe = trainDataframe.drop(columns = ['title', 'description'])"
   ]
  },
  {
   "cell_type": "markdown",
   "metadata": {},
   "source": [
    "Getting train dataset. Merging title and description and removing the title and description columns since we don't need them anymore all our processes will be done on the new merged column named info."
   ]
  },
  {
   "cell_type": "code",
   "execution_count": 2,
   "metadata": {},
   "outputs": [],
   "source": [
    "punctuation = set('''?\\#$%@&^.؟؛][=*×،!-+ـ)(٪:«»<>…/_.,{};~'\"|٬٫''')\n",
    "whitespace = {\"\\t\" , \"\\n\" , \"\\r\"}\n",
    "stopWords = set(stopwords_list())\n",
    "\n",
    "\n",
    "def removePunctuationWhitespaceAndGetWords(text):\n",
    "    i = 0\n",
    "    while(i < len(text)):\n",
    "        if(text[i] in whitespace or text[i] in punctuation):\n",
    "            text = text[:i] + \"\" + text[i+1:]\n",
    "            continue\n",
    "        i += 1\n",
    "    return word_tokenize(text)\n",
    "\n",
    "def removeStopWordsAndLemmatizeWords(words):\n",
    "    finalWords = set()\n",
    "    for word in words:\n",
    "        if(word not in stopWords):\n",
    "            finalWords.add(lemmatizer.lemmatize(word))\n",
    "    return finalWords\n",
    "\n",
    "def printTestCell():\n",
    "    for word in trainDataframe.loc[0 , \"info\"]:\n",
    "        print(word)\n",
    "\n",
    "lemmatizer = Lemmatizer()\n",
    "normalizer = Normalizer()\n",
    "trainDataframe[\"info\"] = trainDataframe[\"info\"].apply(normalizer.normalize)\n",
    "trainDataframe[\"info\"] = trainDataframe[\"info\"].apply(removePunctuationWhitespaceAndGetWords)\n",
    "trainDataframe[\"info\"] = trainDataframe[\"info\"].apply(removeStopWordsAndLemmatizeWords)\n",
    "\n",
    "trainDataframe[\"categories\"] = trainDataframe[\"categories\"].apply(normalizer.normalize)"
   ]
  },
  {
   "cell_type": "markdown",
   "metadata": {},
   "source": [
    "All the other mentioned preprocesses are done here."
   ]
  },
  {
   "cell_type": "code",
   "execution_count": 3,
   "metadata": {},
   "outputs": [],
   "source": [
    "trainInfo = {\"جامعه‌شناسی\": {} , \"کلیات اسلام\": {} , \"داستان کودک و نوجوانان\": {} , \"داستان کوتاه\": {} , \"مدیریت و کسب و کار\": {} , \"رمان\": {}}\n",
    "\n",
    "trainCounts = {\"جامعه‌شناسی\": 0 , \"کلیات اسلام\": 0 , \"داستان کودک و نوجوانان\": 0 , \"داستان کوتاه\": 0 , \"مدیریت و کسب و کار\": 0 , \"رمان\": 0}\n",
    "\n",
    "wordsAllCategories = set()"
   ]
  },
  {
   "cell_type": "code",
   "execution_count": 4,
   "metadata": {},
   "outputs": [],
   "source": [
    "def fillTrainInfo(trainInfo , words , category):\n",
    "    for word in words:\n",
    "        trainCounts[category] += 1\n",
    "        wordsAllCategories.add(word)\n",
    "        if(word not in trainInfo[category].keys()):\n",
    "            trainInfo[category][word] = 1\n",
    "        else:\n",
    "            trainInfo[category][word] += 1\n",
    "    \n",
    "\n",
    "trainDataframe.apply(lambda row : fillTrainInfo(trainInfo , row[\"info\"] , row[\"categories\"]), axis = 1);"
   ]
  },
  {
   "cell_type": "markdown",
   "metadata": {},
   "source": [
    "Here we finding the numbers of each word in each class. These values will be needed for calculationg probability."
   ]
  },
  {
   "cell_type": "code",
   "execution_count": 5,
   "metadata": {},
   "outputs": [],
   "source": [
    "# Now it's time to get test dataset in here\n",
    "testDataframe = pd.read_csv(\"./books_test.csv\")\n",
    "testDataframe[\"info\"] = testDataframe[\"title\"] + testDataframe[\"description\"]\n",
    "testDataframe = testDataframe.drop(columns = ['title', 'description'])"
   ]
  },
  {
   "cell_type": "code",
   "execution_count": 6,
   "metadata": {},
   "outputs": [],
   "source": [
    "lemmatizer = Lemmatizer()\n",
    "normalizer = Normalizer()\n",
    "\n",
    "testDataframe[\"info\"] = testDataframe[\"info\"].apply(normalizer.normalize)\n",
    "testDataframe[\"info\"] = testDataframe[\"info\"].apply(removePunctuationWhitespaceAndGetWords)\n",
    "testDataframe[\"info\"] = testDataframe[\"info\"].apply(removeStopWordsAndLemmatizeWords)\n",
    "\n",
    "testDataframe[\"categories\"] = testDataframe[\"categories\"].apply(normalizer.normalize)"
   ]
  },
  {
   "cell_type": "markdown",
   "metadata": {},
   "source": [
    "Importing test dataset and doing the same preprocesses as before."
   ]
  },
  {
   "cell_type": "code",
   "execution_count": 7,
   "metadata": {},
   "outputs": [],
   "source": [
    "def getBayesAns(trainInfo , trainCounts , testWords):\n",
    "    highest_p = float(\"-inf\"); chosenCategory = \"رمان\"\n",
    "    for category , categoryWords in trainInfo.items():      \n",
    "        p = math.log(1/6)   # 6 classes each having the same probability so 1/6\n",
    "        for testWord in testWords:\n",
    "            if(testWord in categoryWords.keys()):\n",
    "                p += math.log(categoryWords[testWord] / trainCounts[category])\n",
    "            else:\n",
    "                p += float(\"-inf\")\n",
    "        \n",
    "        if(p > highest_p):\n",
    "            highest_p = p\n",
    "            chosenCategory = category\n",
    "            \n",
    "    return chosenCategory\n",
    "\n",
    "\n",
    "testDataframe[\"BayesAns\"] = testDataframe.apply(lambda row : getBayesAns(trainInfo , trainCounts , row[\"info\"]), axis = 1);"
   ]
  },
  {
   "cell_type": "markdown",
   "metadata": {},
   "source": [
    "Calculating probabilities and finding the maximum probability. When we don't find the word in the class the probability will be 0 meaning that by using log the result will be -inf.\n",
    "\n",
    "BayesAns show us the predictions without additive smoothing and BayesAnsAs show us the predictions with additive smoothing. matches shows us the validity of predictions without additive smoothing and matchesAS shows us the validity of predictions with additive smoothing"
   ]
  },
  {
   "cell_type": "code",
   "execution_count": 8,
   "metadata": {},
   "outputs": [
    {
     "data": {
      "text/plain": [
       "False    343\n",
       "True     107\n",
       "Name: matches, dtype: int64"
      ]
     },
     "execution_count": 8,
     "metadata": {},
     "output_type": "execute_result"
    }
   ],
   "source": [
    "testDataframe[\"matches\"] = np.where(testDataframe[\"categories\"] == testDataframe[\"BayesAns\"], True, False)\n",
    "testDataframe[\"matches\"].value_counts()"
   ]
  },
  {
   "cell_type": "markdown",
   "metadata": {},
   "source": [
    "This part is used for finding accuracy."
   ]
  },
  {
   "cell_type": "code",
   "execution_count": 9,
   "metadata": {},
   "outputs": [],
   "source": [
    "def getBayesAnsWithSmoothing(trainInfo , trainCounts , testWords):\n",
    "    highest_p = float(\"-inf\"); chosenCategory = \"\"\n",
    "    alpha = 0.1\n",
    "    for category , categoryWords in trainInfo.items():\n",
    "        p = math.log(1/6)   # 6 classes each having the same probability so 1/6\n",
    "        for testWord in testWords:\n",
    "            if(testWord in categoryWords.keys()):\n",
    "                p += math.log((categoryWords[testWord] + alpha) / (trainCounts[category] + alpha * len(wordsAllCategories)))\n",
    "            else:\n",
    "                p += math.log(alpha / (trainCounts[category] + alpha * len(wordsAllCategories) ) )\n",
    "        \n",
    "        if(p > highest_p):\n",
    "            highest_p = p\n",
    "            chosenCategory = category\n",
    "            \n",
    "    return chosenCategory\n",
    "\n",
    "\n",
    "testDataframe[\"BayesAnsAS\"] = testDataframe.apply(lambda row : getBayesAnsWithSmoothing(\n",
    "                                                             trainInfo , trainCounts , row[\"info\"]) , axis = 1);"
   ]
  },
  {
   "cell_type": "markdown",
   "metadata": {},
   "source": [
    "Exactly the same as not having additive smoothing but here we are using the procedure explained further down the report."
   ]
  },
  {
   "cell_type": "code",
   "execution_count": 10,
   "metadata": {},
   "outputs": [
    {
     "data": {
      "text/plain": [
       "True     360\n",
       "False     90\n",
       "Name: matchesAS, dtype: int64"
      ]
     },
     "execution_count": 10,
     "metadata": {},
     "output_type": "execute_result"
    }
   ],
   "source": [
    "testDataframe[\"matchesAS\"] = np.where(testDataframe[\"categories\"] == testDataframe[\"BayesAnsAS\"], True, False)\n",
    "testDataframe[\"matchesAS\"].value_counts()"
   ]
  },
  {
   "cell_type": "markdown",
   "metadata": {},
   "source": [
    "## Questions"
   ]
  },
  {
   "cell_type": "markdown",
   "metadata": {},
   "source": [
    "Question 1:\n",
    "\n",
    "Lemmatization which is used here is a way of getting the root of words. This procedure is very useful with verbs since we have many forms of a verb with identical root in persian. Also this procedure can be useful with noun. For nouns what we need is the main part of it meaning that we don't want the plural words or any other part of speech connected to it. Lemmatization will remove all these unnecessary parts and gives us the main part of each part of speech. This can come in handy when we want to preprocess data for text recognition.\n",
    "\n",
    "Stemming is another way of doing such thing but it's not as useful as lemmatization. Stemming tries to remove postfix of words to generate the main parts them but sometimes there can be some mistakes or shall we say undesired outputs. Stemming won't do the same thing as lemmatization with verbs but for noun it's partially the same.\n",
    "\n",
    "So in general the two words differ in their flavor. Stemming usually refers to a crude heuristic process that chops off the ends of words in the hope of achieving this goal correctly most of the time not all the time, and often includes the removal of derivational affixes. Lemmatization usually refers to doing things properly with the use of a vocabulary and morphological analysis of words, normally aiming to remove inflectional endings only and to return the base or dictionary form of a word, which is known as the lemma."
   ]
  },
  {
   "cell_type": "markdown",
   "metadata": {},
   "source": [
    "Question 2:\n",
    "\n",
    "Posterior: Probability of a word belonging to the mentioned categories (which here there are 6 categories) given the word. We can decide the category of a text or in other words a new set of words by comparing this probability for our 6 categories.\n",
    "\n",
    "Prior: Probabilty of the category occurrence in general. This value can be calculated or simply be 1/6 meaning that we'll assign equal probability to occurrence of each category and since there are 6 categories the probability will be 1/6. Here in the code 1/6 is used.\n",
    "\n",
    "Likelihood: It's the probability of a word occurring given the category. So it's the number of that word occurring in one of the categories divided by the number of all the words in the same category.\n",
    "\n",
    "Evidence: Probability of the word itself which is the number of that word occurring in the dataset. Because this number is independent of the class and we are going to compare probability of the classes given the same words this number would be the same in both sides of the comparison so we can ignore it and never calculate it meaning that here we can calculate and compare everything without this value."
   ]
  },
  {
   "cell_type": "markdown",
   "metadata": {},
   "source": [
    "Question 3:\n",
    "\n",
    "Since the report is in English, English examples are provided\n",
    "\n",
    "The best we can do is to fight back and bring in sky high success.\n",
    "The sky is beautiful today.\n",
    "\n",
    "Here the word sky can show the need for bigrams or n-grams clearly. By using unigrams, in both of the examples the sky will mean as the blue sky above us. Although this meaning is correct for the second sentence, there's a different situation in the first sentence. In the fisrt one, sky is an adverb for the word high and simply means very. So the only way we can correctly guess the meaning of the word is by using n-grams and showing that the there words sky, high and success are dependent. In the mentioned example bigrams aren't adequate since it'll only give us sky high, we know that this is and adjective but we still don't know to what word so using 3-grams will do the trick."
   ]
  },
  {
   "cell_type": "markdown",
   "metadata": {},
   "source": [
    "Question 4:\n",
    "\n",
    "The problem is that if a word doesn't exist in the dataset of a category, the probability of that category will be zero and since we are multiplying p by this words probability which is 0 or in another way getting log of a zero which will return -inf therefore that test data will definitely be classified in one of the other categories because of that one and only word. Since here we're using log for calculation the result will be -inf and according to the code that category certainly won't be selected."
   ]
  },
  {
   "cell_type": "markdown",
   "metadata": {},
   "source": [
    "Question 5:\n",
    "\n",
    "Additive smoothing is a technique for smoothing categorical data. A small-sample correction will be incorporated in every probability estimate. Consequently, no probability will be zero and this really comes in handy since there can be new words in the test dataset that we haven't seen in the train dataset, this is a way of regularizing Naive Bayes. So in additive smoothing we are trying to prevent zero probability this'll be achieved by changing the way we calculate probability of each word given the class:\n",
    "\n",
    "$p(word|class) = (word + alpha) ÷ (N + alpha*d)$\n",
    "\n",
    "alpha is coefficient that is greater than zero and usually less than 1.\n",
    "N is all words in that particular class.\n",
    "d is number of possible words in all 6 categories (without the duplicates meaning that all the words are unique)\n",
    "\n",
    "By adding alpha which is greater zero it's guaranteed that the probability for each word won't be zero and this'll prevent the mentioned problem in the project description. In the code for additive smoothing the above formula is used."
   ]
  },
  {
   "cell_type": "markdown",
   "metadata": {},
   "source": [
    "Question 6:\n",
    "\n",
    "The bar chart below shows the wanted results.\n",
    "\n",
    "Also since the words are in Persian there is a problem with showing in RTL but it's kinda readable. :)"
   ]
  },
  {
   "cell_type": "code",
   "execution_count": 11,
   "metadata": {},
   "outputs": [],
   "source": [
    "import matplotlib.pyplot as plt\n",
    "import operator"
   ]
  },
  {
   "cell_type": "code",
   "execution_count": 12,
   "metadata": {},
   "outputs": [
    {
     "data": {
      "image/png": "[encoded data removed]",
      "text/plain": [
       "<Figure size 432x288 with 1 Axes>"
      ]
     },
     "metadata": {
      "needs_background": "light"
     },
     "output_type": "display_data"
    },
    {
     "data": {
      "image/png": "[encoded data removed]",
      "text/plain": [
       "<Figure size 432x288 with 1 Axes>"
      ]
     },
     "metadata": {
      "needs_background": "light"
     },
     "output_type": "display_data"
    },
    {
     "data": {
      "image/png": "[encoded data removed]",
      "text/plain": [
       "<Figure size 432x288 with 1 Axes>"
      ]
     },
     "metadata": {
      "needs_background": "light"
     },
     "output_type": "display_data"
    },
    {
     "data": {
      "image/png": "[encoded data removed]",
      "text/plain": [
       "<Figure size 432x288 with 1 Axes>"
      ]
     },
     "metadata": {
      "needs_background": "light"
     },
     "output_type": "display_data"
    },
    {
     "data": {
      "image/png": "[encoded data removed]",
      "text/plain": [
       "<Figure size 432x288 with 1 Axes>"
      ]
     },
     "metadata": {
      "needs_background": "light"
     },
     "output_type": "display_data"
    },
    {
     "data": {
      "image/png": "[encoded data removed]",
      "text/plain": [
       "<Figure size 432x288 with 1 Axes>"
      ]
     },
     "metadata": {
      "needs_background": "light"
     },
     "output_type": "display_data"
    }
   ],
   "source": [
    "for category in trainInfo.keys():\n",
    "    sortedTrainInfo = dict(sorted(trainInfo[category].items(), key=operator.itemgetter(1), reverse=True)[:5])\n",
    "    fig = plt.figure()\n",
    "    ax = fig.add_axes([0,0,1,1])\n",
    "    ax.set_title(category)\n",
    "    words = [word for word in sortedTrainInfo.keys()]\n",
    "    numbers = [num for num in sortedTrainInfo.values()]\n",
    "    ax.bar(words , numbers)\n",
    "    plt.show()"
   ]
  },
  {
   "cell_type": "markdown",
   "metadata": {},
   "source": [
    "Question 7:\n",
    "\n",
    "Precision can be seen as a measure of exactness or quality but recall is a measure of completeness or quantity meaning high precision shows that an algorithm returned substantially more relevant results than irrelevant ones but high recall means that an algorithm returned most of the relevant results.\n",
    "\n",
    "Consider a plumber tasked with removing a bad pipe from house. The plumber needs to remove all of the infected pipe parts since any remaining part regenerate the problem. Also the plumber must not remove OK parts since that would leave the house with damaged pipes. The plumber may be more liberal in the area of the pipe he removes to ensure he has extracted all the infected parts. This decision increases recall but reduces precision. On the other hand, the plumber may be more conservative in the parts (pipe) he removes to ensure he extracts only infected parts. This decision increases precision but reduces recall. That is to say, greater recall increases the chances of removing OK parts which is negative outcome and increases the chances of removing all infected parts which is positive outcome. Greater precision decreases the chances of removing OK parts which is positive outcome but also decreases the chances of removing all infected parts which is negative outcome. Usually, precision and recall are not discussed in isolation. Instead either values for one measure are compared for a fixed level at the other measure or both are combined into a single measure. High precision agent can only detect what it's sure is in one class and ignore others. So it will have very few objects in one class while there were many others left out of the class. This way the precision is very high because things that are detected in class were actually in that class but lots of other things were ignored.\n",
    "\n",
    "The descriptions above shows that in this project that is similar to mentioned situation, percision and recall aren't enough to evaluate the model. These two are usually related."
   ]
  },
  {
   "cell_type": "markdown",
   "metadata": {},
   "source": [
    "Question 8:\n",
    "\n",
    "F1 Score is needed when you want to seek a balance between Precision and Recall. F1 score is the harmonic mean of precision and recall.\n",
    "\n",
    "The harmonic mean can be expressed as the reciprocal (inversed) of the arithmetic mean of the reciprocals of the given set of observations. Since the harmonic mean of a list of numbers tends strongly toward the least elements of the list it tends compared to the arithmetic mean to mitigate and lessen the impact of large outliers and aggravate and make the impact of small ones more serious. So according to this information this mean is useful here."
   ]
  },
  {
   "cell_type": "markdown",
   "metadata": {},
   "source": [
    "Question 9:\n",
    "\n",
    "A macro average will compute the metric independently for each class and then take the average hence treating all classes equally whereas a micro average will aggregate and group the contributions of all classes to compute the average metric. In a multi-class classification setup, micro-average is preferable if you suspect there might be class imbalance.\n",
    "\n",
    "micro average tells the function to compute by considering total true positives, false negatives and false positives. macro average tells the function to compute f1 for each label, and returns the average without considering the proportion for each label in the dataset. weighted average tells the function to compute f1 for each label, and returns the average considering the proportion for each label in the dataset.\n",
    "\n",
    "Micro averaging in a multiclass setting with all labels included will produce equal precision, recall and F, while weighted averaging may produce an F-score that is not between precision and recall. Since here we have the first case then minor averaging will result in precision, recall and f being equal to accuracy."
   ]
  },
  {
   "cell_type": "markdown",
   "metadata": {},
   "source": [
    "Question 10: \n",
    "\n",
    "Precision for each class => number of correct predictions / all predictions of that class\n",
    "\n",
    "recall for each class => number of correct predictions / all actual data of that class\n",
    "\n",
    "accuracy => number of correct predictions in total / all data\n",
    "\n",
    "With additive smoothing results are calculated first. "
   ]
  },
  {
   "cell_type": "code",
   "execution_count": 13,
   "metadata": {},
   "outputs": [
    {
     "name": "stdout",
     "output_type": "stream",
     "text": [
      "جامعه‌شناسی\n",
      "Precision: 72.82608695652173%  |  Recall: 89.33333333333333%  |  F1: 80.23952095808383%\n",
      "___________________\n",
      "رمان\n",
      "Precision: 67.44186046511628%  |  Recall: 77.33333333333333%  |  F1: 72.04968944099377%\n",
      "___________________\n",
      "کلیات اسلام\n",
      "Precision: 93.65079365079364%  |  Recall: 78.66666666666666%  |  F1: 85.5072463768116%\n",
      "___________________\n",
      "داستان کودک و نوجوانان\n",
      "Precision: 89.04109589041096%  |  Recall: 86.66666666666667%  |  F1: 87.83783783783785%\n",
      "___________________\n",
      "داستان کوتاه\n",
      "Precision: 70.49180327868852%  |  Recall: 57.333333333333336%  |  F1: 63.235294117647065%\n",
      "___________________\n",
      "مدیریت و کسب و کار\n",
      "Precision: 90.66666666666666%  |  Recall: 90.66666666666666%  |  F1: 90.66666666666667%\n",
      "___________________\n",
      "Accuracy: 80.0%\n",
      "True     360\n",
      "False     90\n",
      "Name: matchesAS, dtype: int64\n"
     ]
    },
    {
     "data": {
      "image/png": "[encoded data removed]",
      "text/plain": [
       "<Figure size 720x360 with 1 Axes>"
      ]
     },
     "metadata": {
      "needs_background": "light"
     },
     "output_type": "display_data"
    },
    {
     "data": {
      "image/png": "[encoded data removed]",
      "text/plain": [
       "<Figure size 720x360 with 1 Axes>"
      ]
     },
     "metadata": {
      "needs_background": "light"
     },
     "output_type": "display_data"
    },
    {
     "data": {
      "image/png": "[encoded data removed]",
      "text/plain": [
       "<Figure size 720x360 with 1 Axes>"
      ]
     },
     "metadata": {
      "needs_background": "light"
     },
     "output_type": "display_data"
    }
   ],
   "source": [
    "categoriesNames = set(testDataframe[\"categories\"])\n",
    "precisions = {\"جامعه‌شناسی\": 0 , \"کلیات اسلام\": 0 , \"داستان کودک و نوجوانان\": 0 , \"داستان کوتاه\": 0 , \"مدیریت و کسب و کار\": 0 , \"رمان\": 0}\n",
    "recalls = {\"جامعه‌شناسی\": 0 , \"کلیات اسلام\": 0 , \"داستان کودک و نوجوانان\": 0 , \"داستان کوتاه\": 0 , \"مدیریت و کسب و کار\": 0 , \"رمان\": 0}\n",
    "F1s = {\"جامعه‌شناسی\": 0 , \"کلیات اسلام\": 0 , \"داستان کودک و نوجوانان\": 0 , \"داستان کوتاه\": 0 , \"مدیریت و کسب و کار\": 0 , \"رمان\": 0}\n",
    "numAcutalData = {\"جامعه‌شناسی\": 0 , \"کلیات اسلام\": 0 , \"داستان کودک و نوجوانان\": 0 , \"داستان کوتاه\": 0 , \"مدیریت و کسب و کار\": 0 , \"رمان\": 0}\n",
    "\n",
    "def findPrecisionsAndRecallAS():\n",
    "    for category in categoriesNames:\n",
    "        correct_preds = 0; num_acutal_data = 0; num_preds = 0\n",
    "        for i in range(len(testDataframe)):\n",
    "            if(testDataframe.loc[i , \"categories\"] == category):\n",
    "                num_acutal_data += 1\n",
    "            if(testDataframe.loc[i , \"BayesAnsAS\"] == category):\n",
    "                num_preds += 1\n",
    "            if(testDataframe.loc[i , \"categories\"] == testDataframe.loc[i , \"BayesAnsAS\"] and\n",
    "               testDataframe.loc[i , \"categories\"] == category):\n",
    "                \n",
    "                correct_preds += 1\n",
    "        \n",
    "        precisions[category] = (correct_preds / num_preds) * 100\n",
    "        recalls[category] = (correct_preds / num_acutal_data) * 100\n",
    "        F1s[category] = 2 * (precisions[category] * recalls[category]) / (precisions[category] + recalls[category])\n",
    "        numAcutalData[category] = num_acutal_data\n",
    "\n",
    "findPrecisionsAndRecallAS()\n",
    "\n",
    "\n",
    "for category in categoriesNames:\n",
    "    print(category)\n",
    "    print(\"Precision: \" + str(precisions[category]) + \"%  |  Recall: \" + str(recalls[category]) + \\\n",
    "          \"%  |  F1: \" + str(F1s[category]) + \"%\")\n",
    "    print(\"___________________\")\n",
    "    \n",
    "\n",
    "print(\"Accuracy: \" + str((testDataframe[\"matchesAS\"].value_counts()[1] / len(testDataframe)) * 100) + \"%\")\n",
    "print(testDataframe[\"matchesAS\"].value_counts())\n",
    "\n",
    "fig = plt.figure(figsize=(10, 5))\n",
    "ax = fig.add_axes([0,0,1,1])\n",
    "ax.set_title(\"Precisions\")\n",
    "words = list(categoriesNames)\n",
    "numbers = list(precisions.values())\n",
    "ax.bar(words , numbers)\n",
    "plt.show()\n",
    "\n",
    "fig = plt.figure(figsize=(10, 5))\n",
    "ax = fig.add_axes([0,0,1,1])\n",
    "ax.set_title(\"Recalls\")\n",
    "words = list(categoriesNames)\n",
    "numbers = list(recalls.values())\n",
    "ax.bar(words , numbers)\n",
    "plt.show()\n",
    "\n",
    "fig = plt.figure(figsize=(10, 5))\n",
    "ax = fig.add_axes([0,0,1,1])\n",
    "ax.set_title(\"F1s\")\n",
    "words = list(categoriesNames)\n",
    "numbers = list(F1s.values())\n",
    "ax.bar(words , numbers)\n",
    "plt.show()"
   ]
  },
  {
   "cell_type": "markdown",
   "metadata": {},
   "source": [
    "macro average => normal average\n",
    "\n",
    "weighted average => each percentage is multiplied by the number of acutal data of that class\n",
    "\n",
    "micro average => In our case all precision, recall and F1 will be equal to accuracy"
   ]
  },
  {
   "cell_type": "code",
   "execution_count": 14,
   "metadata": {},
   "outputs": [
    {
     "name": "stdout",
     "output_type": "stream",
     "text": [
      "Macro Average Precision: 80.68638448469964%\n",
      "Macro Average Recall: 79.99999999999999%\n",
      "Macro Average F1: 79.9227092330068%\n"
     ]
    },
    {
     "data": {
      "image/png": "[encoded data removed]",
      "text/plain": [
       "<Figure size 432x288 with 1 Axes>"
      ]
     },
     "metadata": {
      "needs_background": "light"
     },
     "output_type": "display_data"
    }
   ],
   "source": [
    "macroAvgPrecision = sum(precisions.values()) / len(categoriesNames)\n",
    "macroAvgRecall = sum(recalls.values()) / len(categoriesNames)\n",
    "macroAvgF1 = sum(F1s.values()) / len(categoriesNames)\n",
    "\n",
    "print(\"Macro Average Precision: \" + str(macroAvgPrecision) + \"%\")\n",
    "print(\"Macro Average Recall: \" + str(macroAvgRecall) + \"%\")\n",
    "print(\"Macro Average F1: \" + str(macroAvgF1) + \"%\")\n",
    "\n",
    "fig = plt.figure()\n",
    "ax = fig.add_axes([0,0,1,1])\n",
    "ax.set_title(\"Evaluation Results\")\n",
    "words = [\"Precision\" , \"Recall\" , \"F1\"]\n",
    "numbers = [macroAvgPrecision , macroAvgRecall , macroAvgF1]\n",
    "ax.bar(words , numbers)\n",
    "plt.show()"
   ]
  },
  {
   "cell_type": "code",
   "execution_count": 15,
   "metadata": {},
   "outputs": [
    {
     "name": "stdout",
     "output_type": "stream",
     "text": [
      "Weighted Average Precision: 80.68638448469962%\n",
      "Weighted Average Recall: 80.0%\n",
      "Weighted Average F1: 79.9227092330068%\n"
     ]
    },
    {
     "data": {
      "image/png": "[encoded data removed]",
      "text/plain": [
       "<Figure size 432x288 with 1 Axes>"
      ]
     },
     "metadata": {
      "needs_background": "light"
     },
     "output_type": "display_data"
    }
   ],
   "source": [
    "weightedAvgPrecision = 0; weightedAvgRecall = 0; weightedAvgF1 = 0\n",
    "for category in categoriesNames:\n",
    "    weightedAvgPrecision += (numAcutalData[category] * precisions[category])\n",
    "    weightedAvgRecall += (numAcutalData[category] * recalls[category])\n",
    "    weightedAvgF1 += (numAcutalData[category] * F1s[category])\n",
    "    \n",
    "weightedAvgPrecision /= len(testDataframe)\n",
    "weightedAvgRecall /= len(testDataframe)\n",
    "weightedAvgF1 /= len(testDataframe)\n",
    "\n",
    "print(\"Weighted Average Precision: \" + str(weightedAvgPrecision) + \"%\")\n",
    "print(\"Weighted Average Recall: \" + str(weightedAvgRecall) + \"%\")\n",
    "print(\"Weighted Average F1: \" + str(weightedAvgF1) + \"%\")\n",
    "\n",
    "fig = plt.figure()\n",
    "ax = fig.add_axes([0,0,1,1])\n",
    "ax.set_title(\"Evaluation Results\")\n",
    "words = [\"Precision\" , \"Recall\" , \"F1\"]\n",
    "numbers = [weightedAvgPrecision , weightedAvgRecall , weightedAvgF1]\n",
    "ax.bar(words , numbers)\n",
    "plt.show()"
   ]
  },
  {
   "cell_type": "markdown",
   "metadata": {},
   "source": [
    "Since total number of each class is equal to 75, weighted average will be basically the same as macro average.  "
   ]
  },
  {
   "cell_type": "code",
   "execution_count": 16,
   "metadata": {},
   "outputs": [
    {
     "name": "stdout",
     "output_type": "stream",
     "text": [
      "Micro Average Precision = Micro Average Recall = Micro Average F1 = accuracy = 80.0%\n"
     ]
    }
   ],
   "source": [
    "accuracy = str((testDataframe[\"matchesAS\"].value_counts()[1] / len(testDataframe)) * 100)\n",
    "print(\"Micro Average Precision = Micro Average Recall = Micro Average F1 = accuracy = \" + accuracy + \"%\")"
   ]
  },
  {
   "cell_type": "markdown",
   "metadata": {},
   "source": [
    "Now it's time for without additive smoothing. Pretty much the same as before."
   ]
  },
  {
   "cell_type": "code",
   "execution_count": 17,
   "metadata": {},
   "outputs": [
    {
     "name": "stdout",
     "output_type": "stream",
     "text": [
      "جامعه‌شناسی\n",
      "Precision: 50.0%  |  Recall: 1.3333333333333335%  |  F1: 2.5974025974025974%\n",
      "___________________\n",
      "رمان\n",
      "Precision: 18.072289156626507%  |  Recall: 100.0%  |  F1: 30.612244897959183%\n",
      "___________________\n",
      "کلیات اسلام\n",
      "Precision: 100.0%  |  Recall: 14.666666666666666%  |  F1: 25.581395348837205%\n",
      "___________________\n",
      "داستان کودک و نوجوانان\n",
      "Precision: 89.47368421052632%  |  Recall: 22.666666666666664%  |  F1: 36.17021276595744%\n",
      "___________________\n",
      "داستان کوتاه\n",
      "Precision: 100.0%  |  Recall: 2.666666666666667%  |  F1: 5.194805194805195%\n",
      "___________________\n",
      "مدیریت و کسب و کار\n",
      "Precision: 100.0%  |  Recall: 1.3333333333333335%  |  F1: 2.6315789473684212%\n",
      "___________________\n",
      "Accuracy: 23.77777777777778%\n",
      "False    343\n",
      "True     107\n",
      "Name: matches, dtype: int64\n"
     ]
    },
    {
     "data": {
      "image/png": "[encoded data removed]",
      "text/plain": [
       "<Figure size 720x360 with 1 Axes>"
      ]
     },
     "metadata": {
      "needs_background": "light"
     },
     "output_type": "display_data"
    },
    {
     "data": {
      "image/png": "[encoded data removed]",
      "text/plain": [
       "<Figure size 720x360 with 1 Axes>"
      ]
     },
     "metadata": {
      "needs_background": "light"
     },
     "output_type": "display_data"
    },
    {
     "data": {
      "image/png": "[encoded data removed]",
      "text/plain": [
       "<Figure size 720x360 with 1 Axes>"
      ]
     },
     "metadata": {
      "needs_background": "light"
     },
     "output_type": "display_data"
    }
   ],
   "source": [
    "def findPrecisionsAndRecall():\n",
    "    for category in categoriesNames:\n",
    "        correct_preds = 0; num_acutal_data = 0; num_preds = 0\n",
    "        for i in range(len(testDataframe)):\n",
    "            if(testDataframe.loc[i , \"categories\"] == category):\n",
    "                num_acutal_data += 1\n",
    "            if(testDataframe.loc[i , \"BayesAns\"] == category):\n",
    "                num_preds += 1\n",
    "            if(testDataframe.loc[i , \"categories\"] == testDataframe.loc[i , \"BayesAns\"] and\n",
    "               testDataframe.loc[i , \"categories\"] == category):\n",
    "                \n",
    "                correct_preds += 1\n",
    "        \n",
    "        precisions[category] = (correct_preds / num_preds) * 100\n",
    "        recalls[category] = (correct_preds / num_acutal_data) * 100\n",
    "        F1s[category] = 2 * (precisions[category] * recalls[category]) / (precisions[category] + recalls[category])\n",
    "        numAcutalData[category] = num_acutal_data\n",
    "\n",
    "findPrecisionsAndRecall()\n",
    "\n",
    "for category in categoriesNames:\n",
    "    print(category)\n",
    "    print(\"Precision: \" + str(precisions[category]) + \"%  |  Recall: \" + str(recalls[category]) + \\\n",
    "          \"%  |  F1: \" + str(F1s[category]) + \"%\")\n",
    "    print(\"___________________\")\n",
    "\n",
    "print(\"Accuracy: \" + str((testDataframe[\"matches\"].value_counts()[1] / len(testDataframe)) * 100) + \"%\")\n",
    "print(testDataframe[\"matches\"].value_counts())\n",
    "\n",
    "fig = plt.figure(figsize=(10, 5))\n",
    "ax = fig.add_axes([0,0,1,1])\n",
    "ax.set_title(\"Precisions\")\n",
    "words = list(categoriesNames)\n",
    "numbers = list(precisions.values())\n",
    "ax.bar(words , numbers)\n",
    "plt.show()\n",
    "\n",
    "fig = plt.figure(figsize=(10, 5))\n",
    "ax = fig.add_axes([0,0,1,1])\n",
    "ax.set_title(\"Recalls\")\n",
    "words = list(categoriesNames)\n",
    "numbers = list(recalls.values())\n",
    "ax.bar(words , numbers)\n",
    "plt.show()\n",
    "\n",
    "fig = plt.figure(figsize=(10, 5))\n",
    "ax = fig.add_axes([0,0,1,1])\n",
    "ax.set_title(\"F1s\")\n",
    "words = list(categoriesNames)\n",
    "numbers = list(F1s.values())\n",
    "ax.bar(words , numbers)\n",
    "plt.show()"
   ]
  },
  {
   "cell_type": "code",
   "execution_count": 18,
   "metadata": {},
   "outputs": [
    {
     "name": "stdout",
     "output_type": "stream",
     "text": [
      "Macro Average Precision: 76.2576622278588%\n",
      "Macro Average Recall: 23.777777777777775%\n",
      "Macro Average F1: 17.13127329205501%\n"
     ]
    },
    {
     "data": {
      "image/png": "[encoded data removed]",
      "text/plain": [
       "<Figure size 432x288 with 1 Axes>"
      ]
     },
     "metadata": {
      "needs_background": "light"
     },
     "output_type": "display_data"
    }
   ],
   "source": [
    "macroAvgPrecision = sum(precisions.values()) / len(categoriesNames)\n",
    "macroAvgRecall = sum(recalls.values()) / len(categoriesNames)\n",
    "macroAvgF1 = sum(F1s.values()) / len(categoriesNames)\n",
    "\n",
    "print(\"Macro Average Precision: \" + str(macroAvgPrecision) + \"%\")\n",
    "print(\"Macro Average Recall: \" + str(macroAvgRecall) + \"%\")\n",
    "print(\"Macro Average F1: \" + str(macroAvgF1) + \"%\")\n",
    "\n",
    "fig = plt.figure()\n",
    "ax = fig.add_axes([0,0,1,1])\n",
    "ax.set_title(\"Evaluation Results\")\n",
    "words = [\"Precision\" , \"Recall\" , \"F1\"]\n",
    "numbers = [macroAvgPrecision , macroAvgRecall , macroAvgF1]\n",
    "ax.bar(words , numbers)\n",
    "plt.show()"
   ]
  },
  {
   "cell_type": "code",
   "execution_count": 19,
   "metadata": {},
   "outputs": [
    {
     "name": "stdout",
     "output_type": "stream",
     "text": [
      "Weighted Average Precision: 76.2576622278588%\n",
      "Weighted Average Recall: 23.77777777777778%\n",
      "Weighted Average F1: 17.131273292055006%\n"
     ]
    },
    {
     "data": {
      "image/png": "[encoded data removed]",
      "text/plain": [
       "<Figure size 432x288 with 1 Axes>"
      ]
     },
     "metadata": {
      "needs_background": "light"
     },
     "output_type": "display_data"
    }
   ],
   "source": [
    "weightedAvgPrecision = 0; weightedAvgRecall = 0; weightedAvgF1 = 0\n",
    "for category in categoriesNames:\n",
    "    weightedAvgPrecision += (numAcutalData[category] * precisions[category])\n",
    "    weightedAvgRecall += (numAcutalData[category] * recalls[category])\n",
    "    weightedAvgF1 += (numAcutalData[category] * F1s[category])\n",
    "    \n",
    "weightedAvgPrecision /= len(testDataframe)\n",
    "weightedAvgRecall /= len(testDataframe)\n",
    "weightedAvgF1 /= len(testDataframe)\n",
    "\n",
    "print(\"Weighted Average Precision: \" + str(weightedAvgPrecision) + \"%\")\n",
    "print(\"Weighted Average Recall: \" + str(weightedAvgRecall) + \"%\")\n",
    "print(\"Weighted Average F1: \" + str(weightedAvgF1) + \"%\")\n",
    "\n",
    "fig = plt.figure()\n",
    "ax = fig.add_axes([0,0,1,1])\n",
    "ax.set_title(\"Evaluation Results\")\n",
    "words = [\"Precision\" , \"Recall\" , \"F1\"]\n",
    "numbers = [weightedAvgPrecision , weightedAvgRecall , weightedAvgF1]\n",
    "ax.bar(words , numbers)\n",
    "plt.show()"
   ]
  },
  {
   "cell_type": "code",
   "execution_count": 20,
   "metadata": {},
   "outputs": [
    {
     "name": "stdout",
     "output_type": "stream",
     "text": [
      "Micro Average Precision = Micro Average Recall = Micro Average F1 = accuracy = 23.77777777777778%\n"
     ]
    }
   ],
   "source": [
    "accuracy = str((testDataframe[\"matches\"].value_counts()[1] / len(testDataframe)) * 100)\n",
    "print(\"Micro Average Precision = Micro Average Recall = Micro Average F1 = accuracy = \" + accuracy + \"%\")"
   ]
  },
  {
   "cell_type": "markdown",
   "metadata": {},
   "source": [
    "Question 11:\n",
    "\n",
    "The numbers seem to be logical. Since without additive smoothing we have the mentioned problem with 0, or if we're using log -inf, probability there would be low accuracy. But by using additive smoothing we got rid of that problem so we would have much higher number in evaluation. Precision values in the case of not having additive smoothing clearly shows the mentioned notes previously that having higher precision doesn't simply mean good modeling. Also we're looking for the highest possible precision and recall although they have reversed relation but in case of not having additive smoothing we clearly see that precision is high but recall is much lower so we understand that the modeling isn't great. Taking a look at case of having additive smothing, we can see that all three evalutation results are not only high but also they are close to each other that is a clear sign of a nice model."
   ]
  },
  {
   "cell_type": "code",
   "execution_count": 21,
   "metadata": {},
   "outputs": [
    {
     "name": "stdout",
     "output_type": "stream",
     "text": [
      "{'دلیل', 'گذشته', 'ساحت', 'محض', 'طولانی\\u200cمدت', 'زیسته', 'متن', 'روایت', 'برمی\\u200cگرداندم', 'گرایش', 'بود#باش', 'وسط', 'خود', 'روز', 'شهر', 'پیشکش', 'برگ', 'سخنران', 'آن\\u200cجا', 'زندگی', 'هفتم', 'ترجیع\\u200cبند', 'زل', 'شانزده', 'حیاط', 'واقعی', 'دهه', 'سر', 'دست', 'فاخر', 'محدود', 'نسل', 'عرب\\u200cزبان', 'سخت', 'زبان', 'آن\\u200cقدر', 'مجالس', 'خانواده', 'عزادار', 'دلهره', 'نامانوس', 'نردبان', 'منحصر', 'شیفتگی', 'عرب', 'امروز', 'نو', '۶۱', 'گزارش', 'پهنا', 'مرشدزاده', 'توصیف', 'پیچیده', 'فراز', 'تابستان', 'دقیق', 'رفت#رو', 'روبه\\u200cرو', 'پایه', 'چکش', 'وصله', 'لحن', 'مداوم', 'معنا', 'شوم', 'صحبت', 'تپه', 'کمتر', 'سیم', 'همه', 'اشک', 'کآشوب', 'نویسندگان', 'حضور', 'نشست#نشین', 'تمام\\u200cنشدنی', 'امام', 'فهمید#فهم', 'ابوذیه\\u200cهای', 'محرم', 'داد#ده', 'دوره', 'هجری', 'پدر', 'خوزستان', 'پیش', 'سال', 'روزمره', 'کاشت#کار', 'تار', 'قرار', 'گوشه', 'دایره', 'تو', 'غریب', 'گفت\\u200cوگوی\\u200cهای', 'دل', 'اثر', 'غبیشاوی', 'ریخت#ریز', 'میخ', 'ذره', 'تعطیلات', 'مجموعه', 'کرد#کن', 'ساختار', 'هفده', 'درآمده\\u200cی', 'واقعه', 'شهادت', 'گریبان', 'جا', 'عنکبوت', 'داشت#دار', 'بیست', 'اتصال', 'ناله', 'زد#زن', 'مختلف', 'هزارانی', 'کلمات', 'همت', 'آورد#آور', 'توریستی', 'درست', 'بالا', 'باند', 'افتاد#افت', 'آخر', 'عادت', 'نیمچه', 'حاج\\u200cبابا', 'عقب', 'صورت', 'علیه\\u200cالسلام', 'شده\\u200cاست', 'لغات', 'عربی\\u200cام', 'حسینیه', 'مستند', 'شغل', 'مظلومانه', 'روضه', 'منبر', 'روستا', 'چطور', 'حاضر', 'ماه', 'مصیبت\\u200cخوانی\\u200cاش', 'تولد', 'علی', 'حوزه', 'تأثر', 'تولید', 'جمع\\u200cآوری', 'گرفت#گیر', 'آدم', 'حسین', 'این\\u200cجا', 'عاشورا', 'قم', 'نفیسه'}\n",
      "Actual Data: داستان کوتاه\n",
      "Predicted Data: رمان\n",
      "________________________\n",
      "{'وقف', '۱۹۳۳', 'متعدد', 'مطالعات', 'محمدعمر', 'هدف', 'تصویر', 'انسان', 'پول', 'نجات\\u200cالله', 'روز', 'منطق', 'کلان', 'توجه', 'دین', 'للفکر', 'روش', 'کارآمد', 'اسلام', 'مرسوم', 'جمله', 'النابلسی', 'العالم', 'کوشش', 'رئیس', 'پژوهش', 'زمینه', 'دکتر', 'قحف', 'هنگفت', 'بانک', 'الاسلام', 'محمدسعید', 'محمد', 'بانکداری', 'عربستان', 'اصلاحات', 'نوشته', 'موجود', 'گسترده', 'موارد', 'مقایسه', 'پرداخت#پرداز', 'چپرا', 'پاکستان', 'مالیه', 'اردن', 'معاصر', 'دارا', 'جامع', 'راهبرد', 'همکار', 'حیات', 'نظام', 'بی\\u200cهمتا', 'مؤسسات', 'عمیق', 'احمد', 'تبیین', 'ابداع', 'ابعاد', 'سرمایه', 'خورشید', 'کمتر', 'همه', 'منظم', 'نگاشته', 'مالزی', 'تأکید', 'اخلاق', 'استدلال', 'سعودی', 'اجرا', 'حنیف', 'علم', 'توسعه', 'شمول', 'کرد#کن', 'منذر', 'اسلامی\\u200cاند', 'آزموده', 'کشور', 'صدیق', 'عمر', 'حرکت', 'آورد#آور', 'چالش', 'مستحکم', 'مطلوب', 'فکر', 'اجتماع', 'افتاد#افت', 'دنیا', 'سلطه', '\\u200cرا', 'خرد', 'اقتصاد', 'کتاب', 'خروج', 'ویژگی', 'دولت', 'مقدمه', 'حاضر', 'نظریه\\u200cپرداز', 'حوزه', 'مصر', 'ارائه', 'مرکزی', 'تحقق', 'سیاسی', 'به\\u200cویژه', 'المعهد', 'بر\\u200cاساس'}\n",
      "Actual Data: کلیات اسلام\n",
      "Predicted Data: جامعه‌شناسی\n",
      "________________________\n",
      "{'شاه', 'قهرمانی\\u200cهای', '۸۹۲۹۳۰', 'مهم', 'دل\\u200cفریب', 'گوناگون', 'گل', 'شرایط', 'نایب', 'تجربه', 'سال', 'سفر', 'رفتن', 'ماند#مان', 'راست', 'روایت\\u200cگر', 'دشمن', 'تازه', 'یافت#یاب', 'میرزا', 'تهماسب', 'بی\\u200cاطلاع', 'تندخو', 'فراهم', 'دختر', 'قمر', 'هریک', 'گل\\u200cحرم', 'ایران', 'ازدواج', 'صفوی', 'داستان', 'ق', 'اتفاقات', 'قهقهه', 'سرنوشت', 'شاهزاده', 'نام', 'ساخت#ساز', 'اسماعیل', 'قلعه', 'الحکومه', 'زندان', 'زیبا', 'شاه\\u200cزاده', 'قهقههرمان', 'سرگذشت', 'مردی', 'حرم', 'فرزند', 'قزوین', 'گذشت#گذر', 'سلطان', 'دل\\u200cنگرانی', 'زنی', 'رخداد', 'تاریخ', 'مرادبیگ', 'دوران', 'عشق', 'کینه', 'دید#بین', 'رخ', 'تصمیم'}\n",
      "Actual Data: داستان کوتاه\n",
      "Predicted Data: رمان\n",
      "________________________\n",
      "{'قهرمان', 'راضی', 'جارو', 'آب', 'رسول', 'آمد#آ', 'چقدر', 'دختر', 'بود#باش', 'انسان', 'هم\\u200cبازی', 'جو', 'حضرت', 'گفت#گو', 'روز', 'داستان', 'لب', 'هیزم', 'زندگی', 'نشان', 'انجام', 'مردی', 'عدس', 'بدن', 'خوردن', 'خوشحال', 'مهرورزی', 'نوشته', 'طبخ', 'دوش', 'یافت#یاب', 'پاک', 'همسر', 'غذا', 'همراه', 'زود', 'جوان', 'کار', 'بی\\u200cدلیل', 'مشترک', 'معلم', 'نشست#نشین', 'عبادت', 'عشق', 'آماده', 'پخت#پز', 'خدا', 'آرد', 'داد#ده', 'فاطمه', 'نگاه', 'آغاز', 'ثواب', 'موعد', 'خانه', 'گذر', 'اندازه', 'الگو', 'مهمان', 'پیامبر', 'تدبیر', 'خرید', 'برای\\u200cعلی', 'کمک', 'مو', 'نامحرم', 'ازدواج', 'لبخند', 'کارهای\\u200cخانه', 'خدامی\\u200cداند', 'داماد', 'فرصت', 'گذشت#گذر', 'بچه', 'آورد#آور', 'زهرا', 'زوج', 'غیره', 'زن', 'همدل', 'گندم', 'رسیدگی', 'خرسند', 'تقسیم', 'سعادتمند', 'کتاب', 'س', 'ص', 'منزل', 'دید', 'ایثار', 'نوبت', 'علی', 'پیشنهاد', 'درس', 'نان'}\n",
      "Actual Data: کلیات اسلام\n",
      "Predicted Data: رمان\n",
      "________________________\n",
      "{'دلیل', 'مقدس', 'سیزده', 'تحولات', 'المللی', 'ادیان', 'دوتا', 'اعصار', 'جهانکتاب', 'هدف', 'قالب', 'مذهب', 'عناوین', 'بود#باش', 'بودا', 'بررسی', 'ادبیات', 'شناخته', 'دین', 'سیک', 'فقید', 'الهیات', 'بازار', 'اسلام', 'دوازدهم', 'جمله', 'زمینه', 'منشاء', 'مهم', 'قوت', 'فعال', 'دسترس', 'جهان', 'درآمده\\u200cاند', 'مقایسه', 'پرداخت#پرداز', 'یازده', 'مذاهب', 'سازمان', 'حیات', 'زود', 'دقیق', 'اصول', 'یهود', 'متون', 'مطالب', 'به\\u200cوجود', 'سرگذشت', 'ا', 'تمرکز', 'بشر', 'اجمال', 'هندو', 'داد#ده', 'کتب', 'بنیان\\u200cگذار', 'عرفان', 'روزآمد', 'فصول', 'دین\\u200cشناس', 'تمدن', 'رابرت', 'جایینی', 'ضعف', 'هیوم', 'نظر', 'اساس', 'پیوسته', 'نوظهور', 'تاثیری', 'داشت#دار', 'شینتو', 'کنفوسیوس', 'جایگاه', 'نکات', 'زمان', 'اجتماع', 'مطرح', 'انتهایی', 'صورت', 'جدیدترند', 'یادشده', 'هنر', 'مباحث', 'کتاب', 'ارزش', 'آداب', 'زرتشت', 'تائویی', 'نقاط', 'مسیحیت', 'دانشجو', 'ادامه', 'قدیم', 'کتاب\\u200cاند', 'زنده', 'رشته', 'تضاد', 'منابع', 'درس', 'فصل', 'آکادمیک', 'انگلیسی', 'تاریخ', 'شباهت', 'استاد'}\n",
      "Actual Data: کلیات اسلام\n",
      "Predicted Data: جامعه‌شناسی\n"
     ]
    }
   ],
   "source": [
    "print(testDataframe.loc[0 , \"info\"])\n",
    "print(\"Actual Data: \" + testDataframe.loc[0 , \"categories\"])\n",
    "print(\"Predicted Data: \" + testDataframe.loc[0 , \"BayesAnsAS\"])\n",
    "print(\"________________________\")\n",
    "print(testDataframe.loc[5 , \"info\"])\n",
    "print(\"Actual Data: \" + testDataframe.loc[5 , \"categories\"])\n",
    "print(\"Predicted Data: \" + testDataframe.loc[5 , \"BayesAnsAS\"])\n",
    "print(\"________________________\")\n",
    "print(testDataframe.loc[12 , \"info\"])\n",
    "print(\"Actual Data: \" + testDataframe.loc[12 , \"categories\"])\n",
    "print(\"Predicted Data: \" + testDataframe.loc[12 , \"BayesAnsAS\"])\n",
    "print(\"________________________\")\n",
    "print(testDataframe.loc[20 , \"info\"])\n",
    "print(\"Actual Data: \" + testDataframe.loc[20 , \"categories\"])\n",
    "print(\"Predicted Data: \" + testDataframe.loc[20 , \"BayesAnsAS\"])\n",
    "print(\"________________________\")\n",
    "print(testDataframe.loc[23 , \"info\"])\n",
    "print(\"Actual Data: \" + testDataframe.loc[23 , \"categories\"])\n",
    "print(\"Predicted Data: \" + testDataframe.loc[23 , \"BayesAnsAS\"])"
   ]
  },
  {
   "cell_type": "markdown",
   "metadata": {},
   "source": [
    "Question 12:\n",
    "\n",
    "Since we're using Naive Bayes we know it's naive meaning that it assumes the features are independent, the probabilities are incorrect if this assumption is not correct. Naive Bayes is also known as a bad estimator so the probability outputs are not to be taken too seriously. We are not looking at the text as a whole but instead we break the text get some info out of it and do calculations but breaking the text and not looking at it as whole will remove the relations so we'll lose some useful info. Finding the relations and adding it to our info will provide us with more evidence and so this can help us predict better.\n",
    "\n",
    "Since we are analyzing texts here the input features are dependent, and the target depends on some higher order structure hidden in the features."
   ]
  },
  {
   "cell_type": "markdown",
   "metadata": {},
   "source": [
    "### References\n",
    "\n",
    "https://towardsdatascience.com/multi-class-metrics-made-simple-part-ii-the-f1-score-ebe8b2c2ca1\n",
    "\n",
    "https://towardsdatascience.com/multi-class-metrics-made-simple-part-i-precision-and-recall-9250280bddc2"
   ]
  }
 ],
 "metadata": {
  "kernelspec": {
   "display_name": "Python 3",
   "language": "python",
   "name": "python3"
  },
  "language_info": {
   "codemirror_mode": {
    "name": "ipython",
    "version": 3
   },
   "file_extension": ".py",
   "mimetype": "text/x-python",
   "name": "python",
   "nbconvert_exporter": "python",
   "pygments_lexer": "ipython3",
   "version": "3.7.3"
  }
 },
 "nbformat": 4,
 "nbformat_minor": 2
}
