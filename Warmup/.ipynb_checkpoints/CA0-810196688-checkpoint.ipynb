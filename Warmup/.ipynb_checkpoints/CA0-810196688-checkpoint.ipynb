{
 "cells": [
  {
   "cell_type": "markdown",
   "metadata": {},
   "source": [
    "اسم پروژه: تمرین کامپیوتری شماره صفر\n",
    "\n",
    "هدف پروژه: پیش بینی کردن قیمت های اعلام نشده به کمک تحلیل آماری "
   ]
  },
  {
   "cell_type": "markdown",
   "metadata": {},
   "source": [
    "توضیح کلی پروژه :\n",
    "\n",
    "در این پروژه در ابتدا با تعدادی از توابع کتابخانه pandas آشنا می شویم سپس با استفاده از این توابع اطلاعات مختلفی از دیتا ست داده شده، که شامل مشخصات مرتبط با ماشین های مختلف می شود، استخراج می کنیم. حال با داشتن اطلاعات فنی ماشین ها و قیمت های بعضی از این ماشین ها تلاش بر این داریم که در نهایت قیمت ماشین هایی که اطلاعات قیمت آن ها داده نشده است را پیش بینی کنیم. با استفاده از کتابخانه گفته شده و همچنین انجام عملیات های آماری مختلف در مورد بخش های مختلف دیتاست، بررسی کردن اطلاعات کامل برخی از ماشین ها، مشاهده و رسم داده ها با کمک کتابخانه matplotlib و در نهایت مشخص کردن تابع تخمین می توانیم به قیمت های مشخص نشده برسیم و آن ها را پیش بینی کنیم.  "
   ]
  },
  {
   "cell_type": "markdown",
   "metadata": {},
   "source": [
    "در این جا کل دیتاست داده شده مرتبط با خودروهایی که در آمریکا فروش می روند را به برنامه اضافه می کنیم و در دیتا فریم mainDataFrame نگهداری می کنیم.\n",
    "\n",
    "از این دیتاست برای تحلیل کردن و تکمیل اطلاعات قیمت بعضی از خودرو ها استفاده می کنیم."
   ]
  },
  {
   "cell_type": "code",
   "execution_count": 1,
   "metadata": {},
   "outputs": [
    {
     "data": {
      "text/html": [
       "<div>\n",
       "<style scoped>\n",
       "    .dataframe tbody tr th:only-of-type {\n",
       "        vertical-align: middle;\n",
       "    }\n",
       "\n",
       "    .dataframe tbody tr th {\n",
       "        vertical-align: top;\n",
       "    }\n",
       "\n",
       "    .dataframe thead th {\n",
       "        text-align: right;\n",
       "    }\n",
       "</style>\n",
       "<table border=\"1\" class=\"dataframe\">\n",
       "  <thead>\n",
       "    <tr style=\"text-align: right;\">\n",
       "      <th></th>\n",
       "      <th>car_ID</th>\n",
       "      <th>CarName</th>\n",
       "      <th>fueltype</th>\n",
       "      <th>carlength</th>\n",
       "      <th>carwidth</th>\n",
       "      <th>carheight</th>\n",
       "      <th>curbweight</th>\n",
       "      <th>cylindernumber</th>\n",
       "      <th>enginesize</th>\n",
       "      <th>horsepower</th>\n",
       "      <th>citympg</th>\n",
       "      <th>highwaympg</th>\n",
       "      <th>price</th>\n",
       "    </tr>\n",
       "  </thead>\n",
       "  <tbody>\n",
       "    <tr>\n",
       "      <th>200</th>\n",
       "      <td>201</td>\n",
       "      <td>volvo 145e (sw)</td>\n",
       "      <td>gas</td>\n",
       "      <td>188.8</td>\n",
       "      <td>68.9</td>\n",
       "      <td>55.5</td>\n",
       "      <td>2952</td>\n",
       "      <td>four</td>\n",
       "      <td>141.0</td>\n",
       "      <td>114.0</td>\n",
       "      <td>23</td>\n",
       "      <td>28</td>\n",
       "      <td>16845.0</td>\n",
       "    </tr>\n",
       "    <tr>\n",
       "      <th>201</th>\n",
       "      <td>202</td>\n",
       "      <td>volvo 144ea</td>\n",
       "      <td>gas</td>\n",
       "      <td>188.8</td>\n",
       "      <td>68.8</td>\n",
       "      <td>55.5</td>\n",
       "      <td>3049</td>\n",
       "      <td>four</td>\n",
       "      <td>141.0</td>\n",
       "      <td>160.0</td>\n",
       "      <td>19</td>\n",
       "      <td>25</td>\n",
       "      <td>19045.0</td>\n",
       "    </tr>\n",
       "    <tr>\n",
       "      <th>202</th>\n",
       "      <td>203</td>\n",
       "      <td>volvo 244dl</td>\n",
       "      <td>gas</td>\n",
       "      <td>188.8</td>\n",
       "      <td>68.9</td>\n",
       "      <td>55.5</td>\n",
       "      <td>3012</td>\n",
       "      <td>six</td>\n",
       "      <td>173.0</td>\n",
       "      <td>134.0</td>\n",
       "      <td>18</td>\n",
       "      <td>23</td>\n",
       "      <td>21485.0</td>\n",
       "    </tr>\n",
       "    <tr>\n",
       "      <th>203</th>\n",
       "      <td>204</td>\n",
       "      <td>volvo 246</td>\n",
       "      <td>diesel</td>\n",
       "      <td>188.8</td>\n",
       "      <td>68.9</td>\n",
       "      <td>55.5</td>\n",
       "      <td>3217</td>\n",
       "      <td>six</td>\n",
       "      <td>145.0</td>\n",
       "      <td>106.0</td>\n",
       "      <td>26</td>\n",
       "      <td>27</td>\n",
       "      <td>22470.0</td>\n",
       "    </tr>\n",
       "    <tr>\n",
       "      <th>204</th>\n",
       "      <td>205</td>\n",
       "      <td>volvo 264gl</td>\n",
       "      <td>gas</td>\n",
       "      <td>188.8</td>\n",
       "      <td>68.9</td>\n",
       "      <td>55.5</td>\n",
       "      <td>3062</td>\n",
       "      <td>four</td>\n",
       "      <td>141.0</td>\n",
       "      <td>114.0</td>\n",
       "      <td>19</td>\n",
       "      <td>25</td>\n",
       "      <td>22625.0</td>\n",
       "    </tr>\n",
       "  </tbody>\n",
       "</table>\n",
       "</div>"
      ],
      "text/plain": [
       "     car_ID          CarName fueltype  carlength  carwidth  carheight  \\\n",
       "200     201  volvo 145e (sw)      gas      188.8      68.9       55.5   \n",
       "201     202      volvo 144ea      gas      188.8      68.8       55.5   \n",
       "202     203      volvo 244dl      gas      188.8      68.9       55.5   \n",
       "203     204        volvo 246   diesel      188.8      68.9       55.5   \n",
       "204     205      volvo 264gl      gas      188.8      68.9       55.5   \n",
       "\n",
       "     curbweight cylindernumber  enginesize  horsepower  citympg  highwaympg  \\\n",
       "200        2952           four       141.0       114.0       23          28   \n",
       "201        3049           four       141.0       160.0       19          25   \n",
       "202        3012            six       173.0       134.0       18          23   \n",
       "203        3217            six       145.0       106.0       26          27   \n",
       "204        3062           four       141.0       114.0       19          25   \n",
       "\n",
       "       price  \n",
       "200  16845.0  \n",
       "201  19045.0  \n",
       "202  21485.0  \n",
       "203  22470.0  \n",
       "204  22625.0  "
      ]
     },
     "execution_count": 1,
     "metadata": {},
     "output_type": "execute_result"
    }
   ],
   "source": [
    "import pandas as pd\n",
    "import time\n",
    "import matplotlib.pyplot as plt\n",
    "import numpy as np\n",
    "\n",
    "mainDataFrame = pd.read_csv('car_price_dataset.csv')\n",
    "\n",
    "mainDataFrame.tail()\n",
    "# shows by default the last 5 rows of dataFrame but it can be given a desired number of rows to show too"
   ]
  },
  {
   "cell_type": "code",
   "execution_count": 2,
   "metadata": {},
   "outputs": [
    {
     "data": {
      "text/html": [
       "<div>\n",
       "<style scoped>\n",
       "    .dataframe tbody tr th:only-of-type {\n",
       "        vertical-align: middle;\n",
       "    }\n",
       "\n",
       "    .dataframe tbody tr th {\n",
       "        vertical-align: top;\n",
       "    }\n",
       "\n",
       "    .dataframe thead th {\n",
       "        text-align: right;\n",
       "    }\n",
       "</style>\n",
       "<table border=\"1\" class=\"dataframe\">\n",
       "  <thead>\n",
       "    <tr style=\"text-align: right;\">\n",
       "      <th></th>\n",
       "      <th>car_ID</th>\n",
       "      <th>CarName</th>\n",
       "      <th>fueltype</th>\n",
       "      <th>carlength</th>\n",
       "      <th>carwidth</th>\n",
       "      <th>carheight</th>\n",
       "      <th>curbweight</th>\n",
       "      <th>cylindernumber</th>\n",
       "      <th>enginesize</th>\n",
       "      <th>horsepower</th>\n",
       "      <th>citympg</th>\n",
       "      <th>highwaympg</th>\n",
       "      <th>price</th>\n",
       "    </tr>\n",
       "  </thead>\n",
       "  <tbody>\n",
       "    <tr>\n",
       "      <th>0</th>\n",
       "      <td>1</td>\n",
       "      <td>alfa-romero giulia</td>\n",
       "      <td>gas</td>\n",
       "      <td>168.8</td>\n",
       "      <td>64.1</td>\n",
       "      <td>48.8</td>\n",
       "      <td>2548</td>\n",
       "      <td>four</td>\n",
       "      <td>130.0</td>\n",
       "      <td>111.0</td>\n",
       "      <td>21</td>\n",
       "      <td>27</td>\n",
       "      <td>13495.0</td>\n",
       "    </tr>\n",
       "    <tr>\n",
       "      <th>1</th>\n",
       "      <td>2</td>\n",
       "      <td>alfa-romero stelvio</td>\n",
       "      <td>gas</td>\n",
       "      <td>168.8</td>\n",
       "      <td>64.1</td>\n",
       "      <td>48.8</td>\n",
       "      <td>2548</td>\n",
       "      <td>four</td>\n",
       "      <td>130.0</td>\n",
       "      <td>111.0</td>\n",
       "      <td>21</td>\n",
       "      <td>27</td>\n",
       "      <td>16500.0</td>\n",
       "    </tr>\n",
       "    <tr>\n",
       "      <th>2</th>\n",
       "      <td>3</td>\n",
       "      <td>alfa-romero Quadrifoglio</td>\n",
       "      <td>gas</td>\n",
       "      <td>171.2</td>\n",
       "      <td>65.5</td>\n",
       "      <td>52.4</td>\n",
       "      <td>2823</td>\n",
       "      <td>six</td>\n",
       "      <td>152.0</td>\n",
       "      <td>154.0</td>\n",
       "      <td>19</td>\n",
       "      <td>26</td>\n",
       "      <td>16500.0</td>\n",
       "    </tr>\n",
       "    <tr>\n",
       "      <th>3</th>\n",
       "      <td>4</td>\n",
       "      <td>audi 100 ls</td>\n",
       "      <td>gas</td>\n",
       "      <td>176.6</td>\n",
       "      <td>66.2</td>\n",
       "      <td>54.3</td>\n",
       "      <td>2337</td>\n",
       "      <td>four</td>\n",
       "      <td>109.0</td>\n",
       "      <td>NaN</td>\n",
       "      <td>24</td>\n",
       "      <td>30</td>\n",
       "      <td>13950.0</td>\n",
       "    </tr>\n",
       "    <tr>\n",
       "      <th>4</th>\n",
       "      <td>5</td>\n",
       "      <td>audi 100ls</td>\n",
       "      <td>gas</td>\n",
       "      <td>176.6</td>\n",
       "      <td>66.4</td>\n",
       "      <td>54.3</td>\n",
       "      <td>2824</td>\n",
       "      <td>five</td>\n",
       "      <td>136.0</td>\n",
       "      <td>115.0</td>\n",
       "      <td>18</td>\n",
       "      <td>22</td>\n",
       "      <td>NaN</td>\n",
       "    </tr>\n",
       "  </tbody>\n",
       "</table>\n",
       "</div>"
      ],
      "text/plain": [
       "   car_ID                   CarName fueltype  carlength  carwidth  carheight  \\\n",
       "0       1        alfa-romero giulia      gas      168.8      64.1       48.8   \n",
       "1       2       alfa-romero stelvio      gas      168.8      64.1       48.8   \n",
       "2       3  alfa-romero Quadrifoglio      gas      171.2      65.5       52.4   \n",
       "3       4               audi 100 ls      gas      176.6      66.2       54.3   \n",
       "4       5                audi 100ls      gas      176.6      66.4       54.3   \n",
       "\n",
       "   curbweight cylindernumber  enginesize  horsepower  citympg  highwaympg  \\\n",
       "0        2548           four       130.0       111.0       21          27   \n",
       "1        2548           four       130.0       111.0       21          27   \n",
       "2        2823            six       152.0       154.0       19          26   \n",
       "3        2337           four       109.0         NaN       24          30   \n",
       "4        2824           five       136.0       115.0       18          22   \n",
       "\n",
       "     price  \n",
       "0  13495.0  \n",
       "1  16500.0  \n",
       "2  16500.0  \n",
       "3  13950.0  \n",
       "4      NaN  "
      ]
     },
     "execution_count": 2,
     "metadata": {},
     "output_type": "execute_result"
    }
   ],
   "source": [
    "mainDataFrame.head()\n",
    "# shows by default the first 5 rows of dataFrame but it can be given a desired number of rows to show too"
   ]
  },
  {
   "cell_type": "code",
   "execution_count": 3,
   "metadata": {},
   "outputs": [
    {
     "data": {
      "text/html": [
       "<div>\n",
       "<style scoped>\n",
       "    .dataframe tbody tr th:only-of-type {\n",
       "        vertical-align: middle;\n",
       "    }\n",
       "\n",
       "    .dataframe tbody tr th {\n",
       "        vertical-align: top;\n",
       "    }\n",
       "\n",
       "    .dataframe thead th {\n",
       "        text-align: right;\n",
       "    }\n",
       "</style>\n",
       "<table border=\"1\" class=\"dataframe\">\n",
       "  <thead>\n",
       "    <tr style=\"text-align: right;\">\n",
       "      <th></th>\n",
       "      <th>car_ID</th>\n",
       "      <th>carlength</th>\n",
       "      <th>carwidth</th>\n",
       "      <th>carheight</th>\n",
       "      <th>curbweight</th>\n",
       "      <th>enginesize</th>\n",
       "      <th>horsepower</th>\n",
       "      <th>citympg</th>\n",
       "      <th>highwaympg</th>\n",
       "      <th>price</th>\n",
       "    </tr>\n",
       "  </thead>\n",
       "  <tbody>\n",
       "    <tr>\n",
       "      <th>count</th>\n",
       "      <td>205.000000</td>\n",
       "      <td>205.000000</td>\n",
       "      <td>205.000000</td>\n",
       "      <td>205.000000</td>\n",
       "      <td>205.000000</td>\n",
       "      <td>191.000000</td>\n",
       "      <td>182.000000</td>\n",
       "      <td>205.000000</td>\n",
       "      <td>205.000000</td>\n",
       "      <td>185.000000</td>\n",
       "    </tr>\n",
       "    <tr>\n",
       "      <th>mean</th>\n",
       "      <td>103.000000</td>\n",
       "      <td>174.049268</td>\n",
       "      <td>65.907805</td>\n",
       "      <td>53.724878</td>\n",
       "      <td>2555.565854</td>\n",
       "      <td>125.418848</td>\n",
       "      <td>105.747253</td>\n",
       "      <td>25.219512</td>\n",
       "      <td>30.751220</td>\n",
       "      <td>13392.181984</td>\n",
       "    </tr>\n",
       "    <tr>\n",
       "      <th>std</th>\n",
       "      <td>59.322565</td>\n",
       "      <td>12.337289</td>\n",
       "      <td>2.145204</td>\n",
       "      <td>2.443522</td>\n",
       "      <td>520.680204</td>\n",
       "      <td>39.229587</td>\n",
       "      <td>40.288214</td>\n",
       "      <td>6.542142</td>\n",
       "      <td>6.886443</td>\n",
       "      <td>8235.838288</td>\n",
       "    </tr>\n",
       "    <tr>\n",
       "      <th>min</th>\n",
       "      <td>1.000000</td>\n",
       "      <td>141.100000</td>\n",
       "      <td>60.300000</td>\n",
       "      <td>47.800000</td>\n",
       "      <td>1488.000000</td>\n",
       "      <td>61.000000</td>\n",
       "      <td>52.000000</td>\n",
       "      <td>13.000000</td>\n",
       "      <td>16.000000</td>\n",
       "      <td>5118.000000</td>\n",
       "    </tr>\n",
       "    <tr>\n",
       "      <th>25%</th>\n",
       "      <td>52.000000</td>\n",
       "      <td>166.300000</td>\n",
       "      <td>64.100000</td>\n",
       "      <td>52.000000</td>\n",
       "      <td>2145.000000</td>\n",
       "      <td>97.000000</td>\n",
       "      <td>72.250000</td>\n",
       "      <td>19.000000</td>\n",
       "      <td>25.000000</td>\n",
       "      <td>7788.000000</td>\n",
       "    </tr>\n",
       "    <tr>\n",
       "      <th>50%</th>\n",
       "      <td>103.000000</td>\n",
       "      <td>173.200000</td>\n",
       "      <td>65.500000</td>\n",
       "      <td>54.100000</td>\n",
       "      <td>2414.000000</td>\n",
       "      <td>119.000000</td>\n",
       "      <td>95.000000</td>\n",
       "      <td>24.000000</td>\n",
       "      <td>30.000000</td>\n",
       "      <td>10295.000000</td>\n",
       "    </tr>\n",
       "    <tr>\n",
       "      <th>75%</th>\n",
       "      <td>154.000000</td>\n",
       "      <td>183.100000</td>\n",
       "      <td>66.900000</td>\n",
       "      <td>55.500000</td>\n",
       "      <td>2935.000000</td>\n",
       "      <td>141.000000</td>\n",
       "      <td>121.000000</td>\n",
       "      <td>30.000000</td>\n",
       "      <td>34.000000</td>\n",
       "      <td>16503.000000</td>\n",
       "    </tr>\n",
       "    <tr>\n",
       "      <th>max</th>\n",
       "      <td>205.000000</td>\n",
       "      <td>208.100000</td>\n",
       "      <td>72.300000</td>\n",
       "      <td>59.800000</td>\n",
       "      <td>4066.000000</td>\n",
       "      <td>326.000000</td>\n",
       "      <td>288.000000</td>\n",
       "      <td>49.000000</td>\n",
       "      <td>54.000000</td>\n",
       "      <td>45400.000000</td>\n",
       "    </tr>\n",
       "  </tbody>\n",
       "</table>\n",
       "</div>"
      ],
      "text/plain": [
       "           car_ID   carlength    carwidth   carheight   curbweight  \\\n",
       "count  205.000000  205.000000  205.000000  205.000000   205.000000   \n",
       "mean   103.000000  174.049268   65.907805   53.724878  2555.565854   \n",
       "std     59.322565   12.337289    2.145204    2.443522   520.680204   \n",
       "min      1.000000  141.100000   60.300000   47.800000  1488.000000   \n",
       "25%     52.000000  166.300000   64.100000   52.000000  2145.000000   \n",
       "50%    103.000000  173.200000   65.500000   54.100000  2414.000000   \n",
       "75%    154.000000  183.100000   66.900000   55.500000  2935.000000   \n",
       "max    205.000000  208.100000   72.300000   59.800000  4066.000000   \n",
       "\n",
       "       enginesize  horsepower     citympg  highwaympg         price  \n",
       "count  191.000000  182.000000  205.000000  205.000000    185.000000  \n",
       "mean   125.418848  105.747253   25.219512   30.751220  13392.181984  \n",
       "std     39.229587   40.288214    6.542142    6.886443   8235.838288  \n",
       "min     61.000000   52.000000   13.000000   16.000000   5118.000000  \n",
       "25%     97.000000   72.250000   19.000000   25.000000   7788.000000  \n",
       "50%    119.000000   95.000000   24.000000   30.000000  10295.000000  \n",
       "75%    141.000000  121.000000   30.000000   34.000000  16503.000000  \n",
       "max    326.000000  288.000000   49.000000   54.000000  45400.000000  "
      ]
     },
     "execution_count": 3,
     "metadata": {},
     "output_type": "execute_result"
    }
   ],
   "source": [
    "mainDataFrame.describe()\n",
    "# Gives some statistical info about the dataFrame like mean, std, min, etc."
   ]
  },
  {
   "cell_type": "code",
   "execution_count": 4,
   "metadata": {},
   "outputs": [
    {
     "name": "stdout",
     "output_type": "stream",
     "text": [
      "<class 'pandas.core.frame.DataFrame'>\n",
      "RangeIndex: 205 entries, 0 to 204\n",
      "Data columns (total 13 columns):\n",
      "car_ID            205 non-null int64\n",
      "CarName           205 non-null object\n",
      "fueltype          205 non-null object\n",
      "carlength         205 non-null float64\n",
      "carwidth          205 non-null float64\n",
      "carheight         205 non-null float64\n",
      "curbweight        205 non-null int64\n",
      "cylindernumber    205 non-null object\n",
      "enginesize        191 non-null float64\n",
      "horsepower        182 non-null float64\n",
      "citympg           205 non-null int64\n",
      "highwaympg        205 non-null int64\n",
      "price             185 non-null float64\n",
      "dtypes: float64(6), int64(4), object(3)\n",
      "memory usage: 20.9+ KB\n"
     ]
    }
   ],
   "source": [
    "mainDataFrame.info()\n",
    "# Gives info for values of each column"
   ]
  },
  {
   "cell_type": "code",
   "execution_count": 5,
   "metadata": {},
   "outputs": [],
   "source": [
    "# Replcaing string with numbers to use them in calculation\n",
    "mainDataFrame = mainDataFrame.replace({\"fueltype\" : {\"gas\" : 0 , \"diesel\" : 1}})"
   ]
  },
  {
   "cell_type": "code",
   "execution_count": 6,
   "metadata": {},
   "outputs": [
    {
     "data": {
      "text/plain": [
       "car_ID             0\n",
       "CarName            0\n",
       "fueltype           0\n",
       "carlength          0\n",
       "carwidth           0\n",
       "carheight          0\n",
       "curbweight         0\n",
       "cylindernumber     0\n",
       "enginesize        14\n",
       "horsepower        23\n",
       "citympg            0\n",
       "highwaympg         0\n",
       "price             20\n",
       "dtype: int64"
      ]
     },
     "execution_count": 6,
     "metadata": {},
     "output_type": "execute_result"
    }
   ],
   "source": [
    "# Getting the number of NaN values in each column\n",
    "mainDataFrame.isna().sum()"
   ]
  },
  {
   "cell_type": "code",
   "execution_count": 7,
   "metadata": {},
   "outputs": [],
   "source": [
    "# Replacing NaN values with mean of column values\n",
    "mainDataFrame.loc[mainDataFrame[\"price\"].notna() , :] = mainDataFrame.loc[mainDataFrame[\"price\"].notna() , :].fillna(mainDataFrame.mean())"
   ]
  },
  {
   "cell_type": "markdown",
   "metadata": {},
   "source": [
    "مزایا و معایب استفاده از میانگین:\n",
    "\n",
    "بدی استفاده از میانگین می تواند این باشد که اگر داده ها اختلاف زیادی با هم داشته باشند میانگین زیاد مورد خوبی برای استفاده نمی باشد به این شکل که مثلا 90 درصد داده ها 0.1 باشد و 10 درصد بقیه 100 باشند در این صورت میانگین representation خوبی برای داده ها ندارد. و این به معنی\n",
    "biased بودن در این حالت است که مورد بدی می باشد.\n",
    "\n",
    "\n",
    " خوبی استفاده از میانگین این است که اگر داده ها به شکل بالا نباشند علاوه بر این که میانگین به راحتی قابل محاسبه و اجرا است، معیار خوبی نیز می باشد و باعث biased بودن نمی شود. پس در کل انتخاب میانگین می تواند به کلیت داده ها و توزیع آن ها وابسته باشد."
   ]
  },
  {
   "cell_type": "markdown",
   "metadata": {},
   "source": [
    "در این جا سطر هایی که مقدار قیمت آن ها نامشخص هست را از mainDataFrame جدا کرده و در یک دیتافریم دیگر با نام NaNPriceDF ذخیره می کنیم."
   ]
  },
  {
   "cell_type": "code",
   "execution_count": 8,
   "metadata": {},
   "outputs": [],
   "source": [
    "NaNPriceDF = mainDataFrame.loc[mainDataFrame[\"price\"].isna() , :]\n",
    "\n",
    "mainDataFrame = mainDataFrame.loc[mainDataFrame[\"price\"].notna() , :]"
   ]
  },
  {
   "cell_type": "code",
   "execution_count": 9,
   "metadata": {},
   "outputs": [
    {
     "data": {
      "text/plain": [
       "four      143\n",
       "six        22\n",
       "five        9\n",
       "eight       5\n",
       "two         4\n",
       "twelve      1\n",
       "three       1\n",
       "Name: cylindernumber, dtype: int64"
      ]
     },
     "execution_count": 9,
     "metadata": {},
     "output_type": "execute_result"
    }
   ],
   "source": [
    "# Number of cars based on number of cylinders\n",
    "mainDataFrame[\"cylindernumber\"].value_counts()"
   ]
  },
  {
   "cell_type": "code",
   "execution_count": 10,
   "metadata": {},
   "outputs": [
    {
     "data": {
      "text/html": [
       "<div>\n",
       "<style scoped>\n",
       "    .dataframe tbody tr th:only-of-type {\n",
       "        vertical-align: middle;\n",
       "    }\n",
       "\n",
       "    .dataframe tbody tr th {\n",
       "        vertical-align: top;\n",
       "    }\n",
       "\n",
       "    .dataframe thead th {\n",
       "        text-align: right;\n",
       "    }\n",
       "</style>\n",
       "<table border=\"1\" class=\"dataframe\">\n",
       "  <thead>\n",
       "    <tr style=\"text-align: right;\">\n",
       "      <th></th>\n",
       "      <th>car_ID</th>\n",
       "      <th>CarName</th>\n",
       "      <th>fueltype</th>\n",
       "      <th>carlength</th>\n",
       "      <th>carwidth</th>\n",
       "      <th>carheight</th>\n",
       "      <th>curbweight</th>\n",
       "      <th>cylindernumber</th>\n",
       "      <th>enginesize</th>\n",
       "      <th>horsepower</th>\n",
       "      <th>citympg</th>\n",
       "      <th>highwaympg</th>\n",
       "      <th>price</th>\n",
       "    </tr>\n",
       "  </thead>\n",
       "  <tbody>\n",
       "    <tr>\n",
       "      <th>49</th>\n",
       "      <td>50</td>\n",
       "      <td>jaguar xk</td>\n",
       "      <td>0</td>\n",
       "      <td>191.7</td>\n",
       "      <td>70.6</td>\n",
       "      <td>47.8</td>\n",
       "      <td>3950</td>\n",
       "      <td>twelve</td>\n",
       "      <td>326.000000</td>\n",
       "      <td>262.000000</td>\n",
       "      <td>13</td>\n",
       "      <td>17</td>\n",
       "      <td>36000.0</td>\n",
       "    </tr>\n",
       "    <tr>\n",
       "      <th>73</th>\n",
       "      <td>74</td>\n",
       "      <td>buick century special</td>\n",
       "      <td>0</td>\n",
       "      <td>208.1</td>\n",
       "      <td>71.7</td>\n",
       "      <td>56.7</td>\n",
       "      <td>3900</td>\n",
       "      <td>eight</td>\n",
       "      <td>125.418848</td>\n",
       "      <td>105.747253</td>\n",
       "      <td>14</td>\n",
       "      <td>16</td>\n",
       "      <td>40960.0</td>\n",
       "    </tr>\n",
       "    <tr>\n",
       "      <th>74</th>\n",
       "      <td>75</td>\n",
       "      <td>buick regal sport coupe (turbo)</td>\n",
       "      <td>0</td>\n",
       "      <td>199.2</td>\n",
       "      <td>72.0</td>\n",
       "      <td>55.4</td>\n",
       "      <td>3715</td>\n",
       "      <td>eight</td>\n",
       "      <td>304.000000</td>\n",
       "      <td>184.000000</td>\n",
       "      <td>14</td>\n",
       "      <td>16</td>\n",
       "      <td>45400.0</td>\n",
       "    </tr>\n",
       "  </tbody>\n",
       "</table>\n",
       "</div>"
      ],
      "text/plain": [
       "    car_ID                          CarName  fueltype  carlength  carwidth  \\\n",
       "49      50                        jaguar xk         0      191.7      70.6   \n",
       "73      74            buick century special         0      208.1      71.7   \n",
       "74      75  buick regal sport coupe (turbo)         0      199.2      72.0   \n",
       "\n",
       "    carheight  curbweight cylindernumber  enginesize  horsepower  citympg  \\\n",
       "49       47.8        3950         twelve  326.000000  262.000000       13   \n",
       "73       56.7        3900          eight  125.418848  105.747253       14   \n",
       "74       55.4        3715          eight  304.000000  184.000000       14   \n",
       "\n",
       "    highwaympg    price  \n",
       "49          17  36000.0  \n",
       "73          16  40960.0  \n",
       "74          16  45400.0  "
      ]
     },
     "execution_count": 10,
     "metadata": {},
     "output_type": "execute_result"
    }
   ],
   "source": [
    "# Info related to part 5 of project\n",
    "mainDataFrame[(mainDataFrame[\"fueltype\"] == 0) & (mainDataFrame[\"horsepower\"] > 100) & (mainDataFrame[\"citympg\"] < 15)]"
   ]
  },
  {
   "cell_type": "code",
   "execution_count": 11,
   "metadata": {},
   "outputs": [
    {
     "name": "stdout",
     "output_type": "stream",
     "text": [
      "Number of cars with the given conditions: \n"
     ]
    },
    {
     "data": {
      "text/plain": [
       "3"
      ]
     },
     "execution_count": 11,
     "metadata": {},
     "output_type": "execute_result"
    }
   ],
   "source": [
    "print(\"Number of cars with the given conditions: \")\n",
    "len(mainDataFrame[(mainDataFrame[\"fueltype\"] == 0) & (mainDataFrame[\"horsepower\"] > 100) & (mainDataFrame[\"citympg\"] < 15)])"
   ]
  },
  {
   "cell_type": "markdown",
   "metadata": {},
   "source": [
    "محاسبه میانگین با فراخوانی تابع mean در کتابخانه pandas"
   ]
  },
  {
   "cell_type": "code",
   "execution_count": 12,
   "metadata": {
    "scrolled": true
   },
   "outputs": [
    {
     "name": "stdout",
     "output_type": "stream",
     "text": [
      "Mean of cars with gas usage: \n"
     ]
    },
    {
     "data": {
      "text/plain": [
       "13170.738957831325"
      ]
     },
     "execution_count": 12,
     "metadata": {},
     "output_type": "execute_result"
    }
   ],
   "source": [
    "print(\"Mean of cars with gas usage: \")\n",
    "mainDataFrame[mainDataFrame[\"fueltype\"] == 0].mean()[\"price\"]"
   ]
  },
  {
   "cell_type": "code",
   "execution_count": 13,
   "metadata": {},
   "outputs": [
    {
     "name": "stdout",
     "output_type": "stream",
     "text": [
      "Mean of cars with diesel usage: \n"
     ]
    },
    {
     "data": {
      "text/plain": [
       "15326.894736842105"
      ]
     },
     "execution_count": 13,
     "metadata": {},
     "output_type": "execute_result"
    }
   ],
   "source": [
    "print(\"Mean of cars with diesel usage: \")\n",
    "mainDataFrame[mainDataFrame[\"fueltype\"] == 1].mean()[\"price\"]"
   ]
  },
  {
   "cell_type": "markdown",
   "metadata": {},
   "source": [
    "محاسبه میانگین با استفاده از حلقه به شکل حرکت بر روی مقادیر به دست آوردن تعداد و مجموع مقادیر و در نهایت به دست آوردن میانگین"
   ]
  },
  {
   "cell_type": "code",
   "execution_count": 14,
   "metadata": {},
   "outputs": [
    {
     "name": "stdout",
     "output_type": "stream",
     "text": [
      "Mean of cars with gas usage: 13170.738957831325\n",
      "Mean of cars with diesel usage: 15326.894736842105\n"
     ]
    }
   ],
   "source": [
    "num_gas = 0; sum_price_gas = 0\n",
    "num_diesel = 0; sum_price_diesel = 0\n",
    "\n",
    "for _ , car in mainDataFrame.iterrows():\n",
    "    if(car[\"fueltype\"] == 0):\n",
    "        num_gas += 1; sum_price_gas += car[\"price\"]\n",
    "    elif(car[\"fueltype\"] == 1):\n",
    "        num_diesel += 1; sum_price_diesel += car[\"price\"]\n",
    "\n",
    "print(\"Mean of cars with gas usage: \" + str(sum_price_gas / num_gas))\n",
    "print(\"Mean of cars with diesel usage: \" + str(sum_price_diesel / num_diesel))\n",
    "        "
   ]
  },
  {
   "cell_type": "markdown",
   "metadata": {},
   "source": [
    "به دلیل این که با استفاده از توابع pandas با روش vectorization پیش می رویم از روشی که با حلقه محاسبات را انجام می دهیم سرعت بالاتری خواهیم داشت."
   ]
  },
  {
   "cell_type": "code",
   "execution_count": 15,
   "metadata": {},
   "outputs": [
    {
     "name": "stdout",
     "output_type": "stream",
     "text": [
      "Vectorized time: 8.98122787475586 ms\n",
      "Iterative time: 29.914379119873047 ms\n"
     ]
    }
   ],
   "source": [
    "tic_vector = time.time()\n",
    "mainDataFrame[mainDataFrame[\"fueltype\"] == 0].mean()[\"price\"]\n",
    "mainDataFrame[mainDataFrame[\"fueltype\"] == 1].mean()[\"price\"]\n",
    "toc_vector = time.time()\n",
    "\n",
    "tic_iter = time.time()\n",
    "for _ , car in mainDataFrame.iterrows():\n",
    "    if(car[\"fueltype\"] == 0):\n",
    "        num_gas += 1; sum_price_gas += car[\"price\"]\n",
    "    elif(car[\"fueltype\"] == 1):\n",
    "        num_diesel += 1; sum_price_diesel += car[\"price\"]\n",
    "toc_iter = time.time()\n",
    "\n",
    "print(\"Vectorized time: \" + str((toc_vector - tic_vector) * 1000) + \" ms\")\n",
    "print(\"Iterative time: \" + str((toc_iter - tic_iter) * 1000) + \" ms\")"
   ]
  },
  {
   "cell_type": "markdown",
   "metadata": {},
   "source": [
    "در این جا نمودار histogram ستون های با مقدار عددی نمایش داده شده است."
   ]
  },
  {
   "cell_type": "code",
   "execution_count": 16,
   "metadata": {},
   "outputs": [
    {
     "name": "stdout",
     "output_type": "stream",
     "text": [
      "Distribution of each column's values:\n"
     ]
    },
    {
     "data": {
      "image/png": "[encoded data removed]",
      "text/plain": [
       "<Figure size 1080x1440 with 12 Axes>"
      ]
     },
     "metadata": {
      "needs_background": "light"
     },
     "output_type": "display_data"
    }
   ],
   "source": [
    "print(\"Distribution of each column's values:\")\n",
    "mainDataFrame.hist(figsize = (15 , 20));"
   ]
  },
  {
   "cell_type": "code",
   "execution_count": 17,
   "metadata": {},
   "outputs": [],
   "source": [
    "mainDataFrame = mainDataFrame.drop(['CarName', 'fueltype' , 'cylindernumber'], axis = 1)"
   ]
  },
  {
   "cell_type": "code",
   "execution_count": 18,
   "metadata": {},
   "outputs": [
    {
     "name": "stdout",
     "output_type": "stream",
     "text": [
      "Price column after normalization: \n"
     ]
    },
    {
     "data": {
      "text/plain": [
       "0      0.012484\n",
       "1      0.377353\n",
       "2      0.377353\n",
       "3      0.067731\n",
       "5      0.225577\n",
       "6      0.524272\n",
       "7      0.671191\n",
       "8      1.272830\n",
       "9      0.542384\n",
       "10     0.368854\n",
       "11     0.428957\n",
       "12     0.920103\n",
       "13     0.936495\n",
       "14     1.356610\n",
       "15     2.108810\n",
       "16     3.390404\n",
       "17     2.851904\n",
       "18    -1.000649\n",
       "19    -0.861744\n",
       "20    -0.827746\n",
       "21    -0.949531\n",
       "22    -0.851787\n",
       "23    -0.659943\n",
       "24    -0.869757\n",
       "25    -0.813540\n",
       "26    -0.702197\n",
       "27    -0.586969\n",
       "28    -0.542893\n",
       "30    -0.839402\n",
       "32    -0.970537\n",
       "         ...   \n",
       "173   -0.539615\n",
       "174   -0.327129\n",
       "175   -0.413338\n",
       "176   -0.302845\n",
       "177   -0.260348\n",
       "178    0.384395\n",
       "179    0.316400\n",
       "180    0.279002\n",
       "182   -0.682041\n",
       "183   -0.657757\n",
       "184   -0.655329\n",
       "185   -0.631045\n",
       "186   -0.594619\n",
       "187   -0.473198\n",
       "188   -0.412488\n",
       "190   -0.414309\n",
       "191   -0.011800\n",
       "192    0.054981\n",
       "193   -0.133828\n",
       "194   -0.054904\n",
       "195    0.002771\n",
       "196    0.314821\n",
       "197    0.379174\n",
       "198    0.610480\n",
       "199    0.674833\n",
       "200    0.419243\n",
       "201    0.686368\n",
       "202    0.982634\n",
       "203    1.102234\n",
       "204    1.121054\n",
       "Name: price, Length: 185, dtype: float64"
      ]
     },
     "execution_count": 18,
     "metadata": {},
     "output_type": "execute_result"
    }
   ],
   "source": [
    "# Normalization\n",
    "\n",
    "mainDataFrame[\"price\"] = (mainDataFrame[\"price\"] - mainDataFrame[\"price\"].mean()) / mainDataFrame[\"price\"].std()\n",
    "print(\"Price column after normalization: \")\n",
    "mainDataFrame[\"price\"]"
   ]
  },
  {
   "cell_type": "markdown",
   "metadata": {},
   "source": [
    "در این مرحله نمودار مقادیر هر ستون بر اساس مقدار ستون قیمت رسم شده است یعنی هر نقطه نشان دهنده یک خودرو می باشد.\n",
    "\n",
    "در هر نمایش محور x مقدار یکی از ستون ها و محور y مقدار قیمت می باشد و این که کدام ستون در نمایش آورده شده در اول هر cell نوشته شده است."
   ]
  },
  {
   "cell_type": "code",
   "execution_count": 19,
   "metadata": {},
   "outputs": [
    {
     "data": {
      "image/png": "[encoded data removed]",
      "text/plain": [
       "<Figure size 432x288 with 1 Axes>"
      ]
     },
     "metadata": {
      "needs_background": "light"
     },
     "output_type": "display_data"
    }
   ],
   "source": [
    "# y => price , x => car_ID\n",
    "plt.scatter(mainDataFrame[\"car_ID\"] , mainDataFrame[\"price\"]);\n",
    "plt.title(\"carID-price Plot\");\n",
    "plt.xlabel(\"carID\");\n",
    "plt.ylabel(\"price\");"
   ]
  },
  {
   "cell_type": "code",
   "execution_count": 20,
   "metadata": {},
   "outputs": [
    {
     "data": {
      "image/png": "[encoded data removed]",
      "text/plain": [
       "<Figure size 432x288 with 1 Axes>"
      ]
     },
     "metadata": {
      "needs_background": "light"
     },
     "output_type": "display_data"
    }
   ],
   "source": [
    "# y => price , x => carlength\n",
    "plt.scatter(mainDataFrame[\"carlength\"] , mainDataFrame[\"price\"]);\n",
    "plt.title(\"carlength-price Plot\");\n",
    "plt.xlabel(\"carlength\");\n",
    "plt.ylabel(\"price\");"
   ]
  },
  {
   "cell_type": "code",
   "execution_count": 21,
   "metadata": {},
   "outputs": [
    {
     "data": {
      "image/png": "[encoded data removed]",
      "text/plain": [
       "<Figure size 432x288 with 1 Axes>"
      ]
     },
     "metadata": {
      "needs_background": "light"
     },
     "output_type": "display_data"
    }
   ],
   "source": [
    "# y => price , x => carweight\n",
    "plt.scatter(mainDataFrame[\"carwidth\"] , mainDataFrame[\"price\"]);\n",
    "plt.title(\"carweight-price Plot\");\n",
    "plt.xlabel(\"carweight\");\n",
    "plt.ylabel(\"price\");"
   ]
  },
  {
   "cell_type": "code",
   "execution_count": 22,
   "metadata": {},
   "outputs": [
    {
     "data": {
      "image/png": "[encoded data removed]",
      "text/plain": [
       "<Figure size 432x288 with 1 Axes>"
      ]
     },
     "metadata": {
      "needs_background": "light"
     },
     "output_type": "display_data"
    }
   ],
   "source": [
    "# y => price , x => carheight\n",
    "plt.scatter(mainDataFrame[\"carheight\"] , mainDataFrame[\"price\"]);\n",
    "plt.title(\"carheight-price Plot\");\n",
    "plt.xlabel(\"carheight\");\n",
    "plt.ylabel(\"price\");"
   ]
  },
  {
   "cell_type": "code",
   "execution_count": 23,
   "metadata": {},
   "outputs": [
    {
     "data": {
      "image/png": "[encoded data removed]",
      "text/plain": [
       "<Figure size 432x288 with 1 Axes>"
      ]
     },
     "metadata": {
      "needs_background": "light"
     },
     "output_type": "display_data"
    }
   ],
   "source": [
    "# y => price , x => curbweight\n",
    "plt.scatter(mainDataFrame[\"curbweight\"] , mainDataFrame[\"price\"]);\n",
    "plt.title(\"curbweight-price Plot\");\n",
    "plt.xlabel(\"curbweight\");\n",
    "plt.ylabel(\"price\");"
   ]
  },
  {
   "cell_type": "code",
   "execution_count": 24,
   "metadata": {},
   "outputs": [
    {
     "data": {
      "image/png": "[encoded data removed]",
      "text/plain": [
       "<Figure size 432x288 with 1 Axes>"
      ]
     },
     "metadata": {
      "needs_background": "light"
     },
     "output_type": "display_data"
    }
   ],
   "source": [
    "# y => price , x => enginesize\n",
    "plt.scatter(mainDataFrame[\"enginesize\"] , mainDataFrame[\"price\"]);\n",
    "plt.title(\"enginesize-price Plot\");\n",
    "plt.xlabel(\"enginesize\");\n",
    "plt.ylabel(\"price\");"
   ]
  },
  {
   "cell_type": "code",
   "execution_count": 25,
   "metadata": {},
   "outputs": [
    {
     "data": {
      "image/png": "[encoded data removed]",
      "text/plain": [
       "<Figure size 432x288 with 1 Axes>"
      ]
     },
     "metadata": {
      "needs_background": "light"
     },
     "output_type": "display_data"
    }
   ],
   "source": [
    "# y => price , x => horsepower\n",
    "plt.scatter(mainDataFrame[\"horsepower\"] , mainDataFrame[\"price\"]);\n",
    "plt.title(\"horsepower-price Plot\");\n",
    "plt.xlabel(\"horsepower\");\n",
    "plt.ylabel(\"price\");"
   ]
  },
  {
   "cell_type": "code",
   "execution_count": 26,
   "metadata": {},
   "outputs": [
    {
     "data": {
      "image/png": "[encoded data removed]",
      "text/plain": [
       "<Figure size 432x288 with 1 Axes>"
      ]
     },
     "metadata": {
      "needs_background": "light"
     },
     "output_type": "display_data"
    }
   ],
   "source": [
    "# y => price , x => citympg\n",
    "plt.scatter(mainDataFrame[\"citympg\"] , mainDataFrame[\"price\"]);\n",
    "plt.title(\"citympg-price Plot\");\n",
    "plt.xlabel(\"citympg\");\n",
    "plt.ylabel(\"price\");"
   ]
  },
  {
   "cell_type": "code",
   "execution_count": 27,
   "metadata": {},
   "outputs": [
    {
     "data": {
      "image/png": "[encoded data removed]",
      "text/plain": [
       "<Figure size 432x288 with 1 Axes>"
      ]
     },
     "metadata": {
      "needs_background": "light"
     },
     "output_type": "display_data"
    }
   ],
   "source": [
    "# y => price , x => highwaympg\n",
    "plt.scatter(mainDataFrame[\"highwaympg\"] , mainDataFrame[\"price\"]);\n",
    "plt.title(\"highwaympg-price Plot\");\n",
    "plt.xlabel(\"highwaympg\");\n",
    "plt.ylabel(\"price\");"
   ]
  },
  {
   "cell_type": "markdown",
   "metadata": {},
   "source": [
    "با مشاهده نمودار های بالا دیده می شود که دو ستون enginesize و curbweight تقریبا با افزایش مقدار قیمت مقدار آن ها نیز به صورت خطی زیاد می شود و در واقع داده ها را می توان با یک خط تا حدودی نمایش داد با توجه به این نکته در ابتدا enginesize و بعد به دلیل مشکل ایجاد شده که در پایین تر توضیح داده شده curbweight انتخاب شده است.\n",
    "\n",
    "توضیحات آورده شده برای enginesize برای curbweight که پایین تر آورده شده است نیز صادق است."
   ]
  },
  {
   "cell_type": "code",
   "execution_count": 28,
   "metadata": {},
   "outputs": [],
   "source": [
    "# engineSize and curbWeight aren't that bad for linear correlation -> I chose engineSize at first"
   ]
  },
  {
   "cell_type": "markdown",
   "metadata": {},
   "source": [
    "در این جا مقادیر دو ستون سایز موتور و قیمت را در یک دیتافریم جدید با نام engineSizeDF ذخیره می کنیم."
   ]
  },
  {
   "cell_type": "code",
   "execution_count": 29,
   "metadata": {},
   "outputs": [],
   "source": [
    "engineSizeDF = pd.concat([mainDataFrame[\"enginesize\"] , mainDataFrame[\"price\"]] , axis = 1)"
   ]
  },
  {
   "cell_type": "markdown",
   "metadata": {},
   "source": [
    "در این مرحله با مشاهده نمودار و انتخاب خطی که تخمین خوبی برای داده ها باشد به محاسبه تابع تخمین پرداخته شده است. با بررسی و جستجو در داده ها نقاطی برای هر کدام از خط ها انتخاب شدند که با استفاده از آن ها معادله خط به دست آمد. این چهار معادله خط برای بررسی انتخاب شده اند و همه خطایی کم تر از 0.5 دارند ولی تابع تخمین سوم به دلیل این که کمترین MSE را داشت در نهایت انتخاب شد. همه اطلاعات نقاط انتخابی و معادله خط هر کدام در ابتدای cell زیر آورده شده است. همچنین به دلیل این که از روی شکل باید تابع تخمین انتخاب می شد موارد مختلف باید مورد بررسی قرار می گرفت."
   ]
  },
  {
   "cell_type": "code",
   "execution_count": 30,
   "metadata": {},
   "outputs": [],
   "source": [
    "# y = 0.023405 * x - 3.228663 --> (304 , 3.886407) , (97 , -0.958394)\n",
    "# y = 0.022919 * x - 3.080920 --> (304 , 3.886407) , (91 , -0.995306)\n",
    "# y = 0.021586 * x - 2.675864 --> (304 , 3.886407) , (79 , -0.970537)\n",
    "# y = 0.020111 * x - 2.227441 --> (304 , 3.886407) , (61 , -1.000649)\n",
    "\n",
    "def linearEquationEngine1(x):\n",
    "    return 0.023405 * x - 3.228663\n",
    "\n",
    "def linearEquationEngine2(x):\n",
    "    return 0.022919 * x - 3.080920\n",
    "\n",
    "def linearEquationEngine3(x):\n",
    "    return 0.021586 * x - 2.675864\n",
    "\n",
    "def linearEquationEngine4(x):\n",
    "    return 0.020111 * x - 2.227441\n",
    "\n",
    "\n",
    "# linearEquationEngine3 is the best one"
   ]
  },
  {
   "cell_type": "code",
   "execution_count": 31,
   "metadata": {},
   "outputs": [],
   "source": [
    "sumFormula = ((engineSizeDF[\"price\"] - linearEquationEngine3(engineSizeDF[\"enginesize\"])) ** 2).sum()"
   ]
  },
  {
   "cell_type": "code",
   "execution_count": 32,
   "metadata": {},
   "outputs": [
    {
     "name": "stdout",
     "output_type": "stream",
     "text": [
      "MSE: \n"
     ]
    },
    {
     "data": {
      "text/plain": [
       "0.3704522740256312"
      ]
     },
     "execution_count": 32,
     "metadata": {},
     "output_type": "execute_result"
    }
   ],
   "source": [
    "print(\"MSE: \")\n",
    "sumFormula / len(engineSizeDF.index)"
   ]
  },
  {
   "cell_type": "markdown",
   "metadata": {},
   "source": [
    "تابع تخمین به همراه داده ها نمایش داده شده اند و قابل مشاهده است که تابع تخمین تقریبا داده های اصلی را درست نمایش می دهد."
   ]
  },
  {
   "cell_type": "code",
   "execution_count": 33,
   "metadata": {},
   "outputs": [
    {
     "data": {
      "image/png": "[encoded data removed]",
      "text/plain": [
       "<Figure size 432x288 with 1 Axes>"
      ]
     },
     "metadata": {
      "needs_background": "light"
     },
     "output_type": "display_data"
    }
   ],
   "source": [
    "plt.scatter(engineSizeDF[\"enginesize\"] , engineSizeDF[\"price\"])\n",
    "\n",
    "x = np.random.randint(50,340,100)\n",
    "plt.plot(x , linearEquationEngine3(x) , 'r')\n",
    "plt.title(\"enginesize-price Plot with estimate\");\n",
    "plt.xlabel(\"enginesize\");\n",
    "plt.ylabel(\"price\");\n",
    "plt.show();"
   ]
  },
  {
   "cell_type": "markdown",
   "metadata": {},
   "source": [
    "در این مرحله به دلیل این که یکی از خودرو ها هم enginesize و هم قیمت نامشخص دارد در نهایت قیمت برای آن دوباره NaN پیش بینی می شود. \n",
    "\n",
    "در این جا چون curbweight نیز مورد خوبی برای افزایش خطی بود انتخاب شده و روند قبل عینا برای آن انجام شده و چون مقدار NaN در curbweight نمی باشد به مشکل گفته شده نمی خوریم و همه قیمت های نامشخص تخمین زده شده و پیش بینی می شوند."
   ]
  },
  {
   "cell_type": "code",
   "execution_count": 34,
   "metadata": {},
   "outputs": [
    {
     "data": {
      "text/html": [
       "<div>\n",
       "<style scoped>\n",
       "    .dataframe tbody tr th:only-of-type {\n",
       "        vertical-align: middle;\n",
       "    }\n",
       "\n",
       "    .dataframe tbody tr th {\n",
       "        vertical-align: top;\n",
       "    }\n",
       "\n",
       "    .dataframe thead th {\n",
       "        text-align: right;\n",
       "    }\n",
       "</style>\n",
       "<table border=\"1\" class=\"dataframe\">\n",
       "  <thead>\n",
       "    <tr style=\"text-align: right;\">\n",
       "      <th></th>\n",
       "      <th>car_ID</th>\n",
       "      <th>CarName</th>\n",
       "      <th>fueltype</th>\n",
       "      <th>carlength</th>\n",
       "      <th>carwidth</th>\n",
       "      <th>carheight</th>\n",
       "      <th>curbweight</th>\n",
       "      <th>cylindernumber</th>\n",
       "      <th>enginesize</th>\n",
       "      <th>horsepower</th>\n",
       "      <th>citympg</th>\n",
       "      <th>highwaympg</th>\n",
       "      <th>price</th>\n",
       "    </tr>\n",
       "  </thead>\n",
       "  <tbody>\n",
       "    <tr>\n",
       "      <th>4</th>\n",
       "      <td>5</td>\n",
       "      <td>audi 100ls</td>\n",
       "      <td>0</td>\n",
       "      <td>176.6</td>\n",
       "      <td>66.4</td>\n",
       "      <td>54.3</td>\n",
       "      <td>2824</td>\n",
       "      <td>five</td>\n",
       "      <td>136.0</td>\n",
       "      <td>115.0</td>\n",
       "      <td>18</td>\n",
       "      <td>22</td>\n",
       "      <td>0.259832</td>\n",
       "    </tr>\n",
       "    <tr>\n",
       "      <th>29</th>\n",
       "      <td>30</td>\n",
       "      <td>dodge coronet custom (sw)</td>\n",
       "      <td>0</td>\n",
       "      <td>173.2</td>\n",
       "      <td>66.3</td>\n",
       "      <td>50.2</td>\n",
       "      <td>2811</td>\n",
       "      <td>four</td>\n",
       "      <td>156.0</td>\n",
       "      <td>145.0</td>\n",
       "      <td>19</td>\n",
       "      <td>24</td>\n",
       "      <td>0.691552</td>\n",
       "    </tr>\n",
       "    <tr>\n",
       "      <th>31</th>\n",
       "      <td>32</td>\n",
       "      <td>honda civic cvcc</td>\n",
       "      <td>0</td>\n",
       "      <td>144.6</td>\n",
       "      <td>63.9</td>\n",
       "      <td>50.8</td>\n",
       "      <td>1819</td>\n",
       "      <td>four</td>\n",
       "      <td>92.0</td>\n",
       "      <td>76.0</td>\n",
       "      <td>31</td>\n",
       "      <td>38</td>\n",
       "      <td>-0.689952</td>\n",
       "    </tr>\n",
       "    <tr>\n",
       "      <th>52</th>\n",
       "      <td>53</td>\n",
       "      <td>mazda rx2 coupe</td>\n",
       "      <td>0</td>\n",
       "      <td>159.1</td>\n",
       "      <td>64.2</td>\n",
       "      <td>54.1</td>\n",
       "      <td>1905</td>\n",
       "      <td>four</td>\n",
       "      <td>91.0</td>\n",
       "      <td>68.0</td>\n",
       "      <td>31</td>\n",
       "      <td>38</td>\n",
       "      <td>-0.711538</td>\n",
       "    </tr>\n",
       "    <tr>\n",
       "      <th>53</th>\n",
       "      <td>54</td>\n",
       "      <td>mazda rx-4</td>\n",
       "      <td>0</td>\n",
       "      <td>166.8</td>\n",
       "      <td>64.2</td>\n",
       "      <td>54.1</td>\n",
       "      <td>1945</td>\n",
       "      <td>four</td>\n",
       "      <td>91.0</td>\n",
       "      <td>68.0</td>\n",
       "      <td>31</td>\n",
       "      <td>38</td>\n",
       "      <td>-0.711538</td>\n",
       "    </tr>\n",
       "    <tr>\n",
       "      <th>59</th>\n",
       "      <td>60</td>\n",
       "      <td>mazda 626</td>\n",
       "      <td>0</td>\n",
       "      <td>177.8</td>\n",
       "      <td>66.5</td>\n",
       "      <td>53.7</td>\n",
       "      <td>2385</td>\n",
       "      <td>four</td>\n",
       "      <td>122.0</td>\n",
       "      <td>84.0</td>\n",
       "      <td>26</td>\n",
       "      <td>32</td>\n",
       "      <td>-0.042372</td>\n",
       "    </tr>\n",
       "    <tr>\n",
       "      <th>62</th>\n",
       "      <td>63</td>\n",
       "      <td>mazda rx-4</td>\n",
       "      <td>0</td>\n",
       "      <td>177.8</td>\n",
       "      <td>66.5</td>\n",
       "      <td>55.5</td>\n",
       "      <td>2410</td>\n",
       "      <td>four</td>\n",
       "      <td>122.0</td>\n",
       "      <td>84.0</td>\n",
       "      <td>26</td>\n",
       "      <td>32</td>\n",
       "      <td>-0.042372</td>\n",
       "    </tr>\n",
       "    <tr>\n",
       "      <th>67</th>\n",
       "      <td>68</td>\n",
       "      <td>buick electra 225 custom</td>\n",
       "      <td>1</td>\n",
       "      <td>190.9</td>\n",
       "      <td>70.3</td>\n",
       "      <td>56.5</td>\n",
       "      <td>3515</td>\n",
       "      <td>five</td>\n",
       "      <td>183.0</td>\n",
       "      <td>123.0</td>\n",
       "      <td>22</td>\n",
       "      <td>25</td>\n",
       "      <td>1.274374</td>\n",
       "    </tr>\n",
       "    <tr>\n",
       "      <th>78</th>\n",
       "      <td>79</td>\n",
       "      <td>mitsubishi outlander</td>\n",
       "      <td>0</td>\n",
       "      <td>157.3</td>\n",
       "      <td>64.4</td>\n",
       "      <td>50.8</td>\n",
       "      <td>2004</td>\n",
       "      <td>four</td>\n",
       "      <td>92.0</td>\n",
       "      <td>68.0</td>\n",
       "      <td>31</td>\n",
       "      <td>38</td>\n",
       "      <td>-0.689952</td>\n",
       "    </tr>\n",
       "    <tr>\n",
       "      <th>84</th>\n",
       "      <td>85</td>\n",
       "      <td>mitsubishi mirage g4</td>\n",
       "      <td>0</td>\n",
       "      <td>173.2</td>\n",
       "      <td>66.3</td>\n",
       "      <td>50.2</td>\n",
       "      <td>2926</td>\n",
       "      <td>four</td>\n",
       "      <td>156.0</td>\n",
       "      <td>145.0</td>\n",
       "      <td>19</td>\n",
       "      <td>24</td>\n",
       "      <td>0.691552</td>\n",
       "    </tr>\n",
       "    <tr>\n",
       "      <th>87</th>\n",
       "      <td>88</td>\n",
       "      <td>mitsubishi outlander</td>\n",
       "      <td>0</td>\n",
       "      <td>172.4</td>\n",
       "      <td>65.4</td>\n",
       "      <td>51.6</td>\n",
       "      <td>2403</td>\n",
       "      <td>four</td>\n",
       "      <td>110.0</td>\n",
       "      <td>116.0</td>\n",
       "      <td>23</td>\n",
       "      <td>30</td>\n",
       "      <td>-0.301404</td>\n",
       "    </tr>\n",
       "    <tr>\n",
       "      <th>88</th>\n",
       "      <td>89</td>\n",
       "      <td>mitsubishi mirage g4</td>\n",
       "      <td>0</td>\n",
       "      <td>172.4</td>\n",
       "      <td>65.4</td>\n",
       "      <td>51.6</td>\n",
       "      <td>2403</td>\n",
       "      <td>four</td>\n",
       "      <td>110.0</td>\n",
       "      <td>116.0</td>\n",
       "      <td>23</td>\n",
       "      <td>30</td>\n",
       "      <td>-0.301404</td>\n",
       "    </tr>\n",
       "    <tr>\n",
       "      <th>104</th>\n",
       "      <td>105</td>\n",
       "      <td>nissan teana</td>\n",
       "      <td>0</td>\n",
       "      <td>170.7</td>\n",
       "      <td>67.9</td>\n",
       "      <td>49.7</td>\n",
       "      <td>3071</td>\n",
       "      <td>six</td>\n",
       "      <td>181.0</td>\n",
       "      <td>160.0</td>\n",
       "      <td>19</td>\n",
       "      <td>25</td>\n",
       "      <td>1.231202</td>\n",
       "    </tr>\n",
       "    <tr>\n",
       "      <th>123</th>\n",
       "      <td>124</td>\n",
       "      <td>plymouth valiant</td>\n",
       "      <td>0</td>\n",
       "      <td>174.6</td>\n",
       "      <td>64.6</td>\n",
       "      <td>59.8</td>\n",
       "      <td>2535</td>\n",
       "      <td>four</td>\n",
       "      <td>122.0</td>\n",
       "      <td>88.0</td>\n",
       "      <td>24</td>\n",
       "      <td>30</td>\n",
       "      <td>-0.042372</td>\n",
       "    </tr>\n",
       "    <tr>\n",
       "      <th>136</th>\n",
       "      <td>137</td>\n",
       "      <td>saab 99gle</td>\n",
       "      <td>0</td>\n",
       "      <td>186.6</td>\n",
       "      <td>66.5</td>\n",
       "      <td>56.1</td>\n",
       "      <td>2808</td>\n",
       "      <td>four</td>\n",
       "      <td>NaN</td>\n",
       "      <td>160.0</td>\n",
       "      <td>19</td>\n",
       "      <td>26</td>\n",
       "      <td>NaN</td>\n",
       "    </tr>\n",
       "    <tr>\n",
       "      <th>137</th>\n",
       "      <td>138</td>\n",
       "      <td>saab 99e</td>\n",
       "      <td>0</td>\n",
       "      <td>186.6</td>\n",
       "      <td>66.5</td>\n",
       "      <td>56.1</td>\n",
       "      <td>2847</td>\n",
       "      <td>four</td>\n",
       "      <td>121.0</td>\n",
       "      <td>160.0</td>\n",
       "      <td>19</td>\n",
       "      <td>26</td>\n",
       "      <td>-0.063958</td>\n",
       "    </tr>\n",
       "    <tr>\n",
       "      <th>141</th>\n",
       "      <td>142</td>\n",
       "      <td>subaru</td>\n",
       "      <td>0</td>\n",
       "      <td>172.0</td>\n",
       "      <td>65.4</td>\n",
       "      <td>52.5</td>\n",
       "      <td>2145</td>\n",
       "      <td>four</td>\n",
       "      <td>108.0</td>\n",
       "      <td>82.0</td>\n",
       "      <td>32</td>\n",
       "      <td>37</td>\n",
       "      <td>-0.344576</td>\n",
       "    </tr>\n",
       "    <tr>\n",
       "      <th>149</th>\n",
       "      <td>150</td>\n",
       "      <td>subaru dl</td>\n",
       "      <td>0</td>\n",
       "      <td>173.6</td>\n",
       "      <td>65.4</td>\n",
       "      <td>54.9</td>\n",
       "      <td>2650</td>\n",
       "      <td>four</td>\n",
       "      <td>108.0</td>\n",
       "      <td>111.0</td>\n",
       "      <td>23</td>\n",
       "      <td>23</td>\n",
       "      <td>-0.344576</td>\n",
       "    </tr>\n",
       "    <tr>\n",
       "      <th>181</th>\n",
       "      <td>182</td>\n",
       "      <td>toyouta tercel</td>\n",
       "      <td>0</td>\n",
       "      <td>187.8</td>\n",
       "      <td>66.5</td>\n",
       "      <td>54.1</td>\n",
       "      <td>3151</td>\n",
       "      <td>six</td>\n",
       "      <td>161.0</td>\n",
       "      <td>156.0</td>\n",
       "      <td>19</td>\n",
       "      <td>24</td>\n",
       "      <td>0.799482</td>\n",
       "    </tr>\n",
       "    <tr>\n",
       "      <th>189</th>\n",
       "      <td>190</td>\n",
       "      <td>vw dasher</td>\n",
       "      <td>0</td>\n",
       "      <td>159.3</td>\n",
       "      <td>64.2</td>\n",
       "      <td>55.6</td>\n",
       "      <td>2254</td>\n",
       "      <td>four</td>\n",
       "      <td>109.0</td>\n",
       "      <td>90.0</td>\n",
       "      <td>24</td>\n",
       "      <td>29</td>\n",
       "      <td>-0.322990</td>\n",
       "    </tr>\n",
       "  </tbody>\n",
       "</table>\n",
       "</div>"
      ],
      "text/plain": [
       "     car_ID                    CarName  fueltype  carlength  carwidth  \\\n",
       "4         5                 audi 100ls         0      176.6      66.4   \n",
       "29       30  dodge coronet custom (sw)         0      173.2      66.3   \n",
       "31       32           honda civic cvcc         0      144.6      63.9   \n",
       "52       53            mazda rx2 coupe         0      159.1      64.2   \n",
       "53       54                 mazda rx-4         0      166.8      64.2   \n",
       "59       60                  mazda 626         0      177.8      66.5   \n",
       "62       63                 mazda rx-4         0      177.8      66.5   \n",
       "67       68   buick electra 225 custom         1      190.9      70.3   \n",
       "78       79       mitsubishi outlander         0      157.3      64.4   \n",
       "84       85       mitsubishi mirage g4         0      173.2      66.3   \n",
       "87       88       mitsubishi outlander         0      172.4      65.4   \n",
       "88       89       mitsubishi mirage g4         0      172.4      65.4   \n",
       "104     105               nissan teana         0      170.7      67.9   \n",
       "123     124           plymouth valiant         0      174.6      64.6   \n",
       "136     137                 saab 99gle         0      186.6      66.5   \n",
       "137     138                   saab 99e         0      186.6      66.5   \n",
       "141     142                     subaru         0      172.0      65.4   \n",
       "149     150                  subaru dl         0      173.6      65.4   \n",
       "181     182             toyouta tercel         0      187.8      66.5   \n",
       "189     190                  vw dasher         0      159.3      64.2   \n",
       "\n",
       "     carheight  curbweight cylindernumber  enginesize  horsepower  citympg  \\\n",
       "4         54.3        2824           five       136.0       115.0       18   \n",
       "29        50.2        2811           four       156.0       145.0       19   \n",
       "31        50.8        1819           four        92.0        76.0       31   \n",
       "52        54.1        1905           four        91.0        68.0       31   \n",
       "53        54.1        1945           four        91.0        68.0       31   \n",
       "59        53.7        2385           four       122.0        84.0       26   \n",
       "62        55.5        2410           four       122.0        84.0       26   \n",
       "67        56.5        3515           five       183.0       123.0       22   \n",
       "78        50.8        2004           four        92.0        68.0       31   \n",
       "84        50.2        2926           four       156.0       145.0       19   \n",
       "87        51.6        2403           four       110.0       116.0       23   \n",
       "88        51.6        2403           four       110.0       116.0       23   \n",
       "104       49.7        3071            six       181.0       160.0       19   \n",
       "123       59.8        2535           four       122.0        88.0       24   \n",
       "136       56.1        2808           four         NaN       160.0       19   \n",
       "137       56.1        2847           four       121.0       160.0       19   \n",
       "141       52.5        2145           four       108.0        82.0       32   \n",
       "149       54.9        2650           four       108.0       111.0       23   \n",
       "181       54.1        3151            six       161.0       156.0       19   \n",
       "189       55.6        2254           four       109.0        90.0       24   \n",
       "\n",
       "     highwaympg     price  \n",
       "4            22  0.259832  \n",
       "29           24  0.691552  \n",
       "31           38 -0.689952  \n",
       "52           38 -0.711538  \n",
       "53           38 -0.711538  \n",
       "59           32 -0.042372  \n",
       "62           32 -0.042372  \n",
       "67           25  1.274374  \n",
       "78           38 -0.689952  \n",
       "84           24  0.691552  \n",
       "87           30 -0.301404  \n",
       "88           30 -0.301404  \n",
       "104          25  1.231202  \n",
       "123          30 -0.042372  \n",
       "136          26       NaN  \n",
       "137          26 -0.063958  \n",
       "141          37 -0.344576  \n",
       "149          23 -0.344576  \n",
       "181          24  0.799482  \n",
       "189          29 -0.322990  "
      ]
     },
     "execution_count": 34,
     "metadata": {},
     "output_type": "execute_result"
    }
   ],
   "source": [
    "NaNPriceDF[\"price\"] = linearEquationEngine3(NaNPriceDF[\"enginesize\"])\n",
    "NaNPriceDF\n",
    "\n",
    "# one price is NaN because its engineSize was NaN from the start so I will choose curbweight now!"
   ]
  },
  {
   "cell_type": "markdown",
   "metadata": {},
   "source": [
    "در این جا مقادیر دو ستون curbweight و قیمت را در یک دیتافریم جدید با نام curbWeightDF ذخیره می کنیم.\n",
    "\n",
    "حال روند قبل تکرار شده و این دفعه بدون مشکل همه قیمت های نامشخص پیش بینی می شوند"
   ]
  },
  {
   "cell_type": "code",
   "execution_count": 35,
   "metadata": {},
   "outputs": [],
   "source": [
    "curbWeightDF = pd.concat([mainDataFrame[\"curbweight\"] , mainDataFrame[\"price\"]] , axis = 1)"
   ]
  },
  {
   "cell_type": "code",
   "execution_count": 36,
   "metadata": {},
   "outputs": [],
   "source": [
    "# y = 0.001510 * x - 3.848574 --> (4066 , 2.289727) , (1890 , -0.995306)\n",
    "# y = 0.001463 * x - 3.657439 --> (4066 , 2.289727) , (1837 , -0.970537)\n",
    "# y = 0.001525 * x - 3.911442 --> (4066 , 2.289727) , (2015 , -0.838310)\n",
    "# y = 0.001553 * x - 4.024514 --> (4066 , 2.289727) , (2040 , -0.856523)\n",
    "\n",
    "def linearEquationCurb1(x):\n",
    "    return 0.001510 * x - 3.848574\n",
    "\n",
    "def linearEquationCurb2(x):\n",
    "    return 0.001463 * x - 3.657439\n",
    "\n",
    "def linearEquationCurb3(x):\n",
    "    return 0.001525 * x - 3.911442\n",
    "\n",
    "def linearEquationCurb4(x):\n",
    "    return 0.001553 * x - 4.024514\n",
    "\n",
    "\n",
    "# linearEquationCurb3 is the best one"
   ]
  },
  {
   "cell_type": "code",
   "execution_count": 37,
   "metadata": {},
   "outputs": [],
   "source": [
    "sumFormula = ((curbWeightDF[\"price\"] - linearEquationCurb3(curbWeightDF[\"curbweight\"])) ** 2).sum()"
   ]
  },
  {
   "cell_type": "code",
   "execution_count": 38,
   "metadata": {},
   "outputs": [
    {
     "name": "stdout",
     "output_type": "stream",
     "text": [
      "MSE: \n"
     ]
    },
    {
     "data": {
      "text/plain": [
       "0.3043813847026994"
      ]
     },
     "execution_count": 38,
     "metadata": {},
     "output_type": "execute_result"
    }
   ],
   "source": [
    "print(\"MSE: \")\n",
    "sumFormula / len(curbWeightDF.index)"
   ]
  },
  {
   "cell_type": "code",
   "execution_count": 39,
   "metadata": {},
   "outputs": [
    {
     "data": {
      "image/png": "[encoded data removed]",
      "text/plain": [
       "<Figure size 432x288 with 1 Axes>"
      ]
     },
     "metadata": {
      "needs_background": "light"
     },
     "output_type": "display_data"
    }
   ],
   "source": [
    "plt.scatter(curbWeightDF[\"curbweight\"] , curbWeightDF[\"price\"])\n",
    "\n",
    "x = np.random.randint(1450 , 4200 , 100)\n",
    "plt.plot(x , linearEquationCurb3(x) , 'r')\n",
    "plt.title(\"curbweight-price Plot with estimate\");\n",
    "plt.xlabel(\"curbweight\");\n",
    "plt.ylabel(\"price\");\n",
    "plt.show()"
   ]
  },
  {
   "cell_type": "code",
   "execution_count": 40,
   "metadata": {},
   "outputs": [
    {
     "data": {
      "text/html": [
       "<div>\n",
       "<style scoped>\n",
       "    .dataframe tbody tr th:only-of-type {\n",
       "        vertical-align: middle;\n",
       "    }\n",
       "\n",
       "    .dataframe tbody tr th {\n",
       "        vertical-align: top;\n",
       "    }\n",
       "\n",
       "    .dataframe thead th {\n",
       "        text-align: right;\n",
       "    }\n",
       "</style>\n",
       "<table border=\"1\" class=\"dataframe\">\n",
       "  <thead>\n",
       "    <tr style=\"text-align: right;\">\n",
       "      <th></th>\n",
       "      <th>car_ID</th>\n",
       "      <th>CarName</th>\n",
       "      <th>fueltype</th>\n",
       "      <th>carlength</th>\n",
       "      <th>carwidth</th>\n",
       "      <th>carheight</th>\n",
       "      <th>curbweight</th>\n",
       "      <th>cylindernumber</th>\n",
       "      <th>enginesize</th>\n",
       "      <th>horsepower</th>\n",
       "      <th>citympg</th>\n",
       "      <th>highwaympg</th>\n",
       "      <th>price</th>\n",
       "    </tr>\n",
       "  </thead>\n",
       "  <tbody>\n",
       "    <tr>\n",
       "      <th>4</th>\n",
       "      <td>5</td>\n",
       "      <td>audi 100ls</td>\n",
       "      <td>0</td>\n",
       "      <td>176.6</td>\n",
       "      <td>66.4</td>\n",
       "      <td>54.3</td>\n",
       "      <td>2824</td>\n",
       "      <td>five</td>\n",
       "      <td>136.0</td>\n",
       "      <td>115.0</td>\n",
       "      <td>18</td>\n",
       "      <td>22</td>\n",
       "      <td>0.395158</td>\n",
       "    </tr>\n",
       "    <tr>\n",
       "      <th>29</th>\n",
       "      <td>30</td>\n",
       "      <td>dodge coronet custom (sw)</td>\n",
       "      <td>0</td>\n",
       "      <td>173.2</td>\n",
       "      <td>66.3</td>\n",
       "      <td>50.2</td>\n",
       "      <td>2811</td>\n",
       "      <td>four</td>\n",
       "      <td>156.0</td>\n",
       "      <td>145.0</td>\n",
       "      <td>19</td>\n",
       "      <td>24</td>\n",
       "      <td>0.375333</td>\n",
       "    </tr>\n",
       "    <tr>\n",
       "      <th>31</th>\n",
       "      <td>32</td>\n",
       "      <td>honda civic cvcc</td>\n",
       "      <td>0</td>\n",
       "      <td>144.6</td>\n",
       "      <td>63.9</td>\n",
       "      <td>50.8</td>\n",
       "      <td>1819</td>\n",
       "      <td>four</td>\n",
       "      <td>92.0</td>\n",
       "      <td>76.0</td>\n",
       "      <td>31</td>\n",
       "      <td>38</td>\n",
       "      <td>-1.137467</td>\n",
       "    </tr>\n",
       "    <tr>\n",
       "      <th>52</th>\n",
       "      <td>53</td>\n",
       "      <td>mazda rx2 coupe</td>\n",
       "      <td>0</td>\n",
       "      <td>159.1</td>\n",
       "      <td>64.2</td>\n",
       "      <td>54.1</td>\n",
       "      <td>1905</td>\n",
       "      <td>four</td>\n",
       "      <td>91.0</td>\n",
       "      <td>68.0</td>\n",
       "      <td>31</td>\n",
       "      <td>38</td>\n",
       "      <td>-1.006317</td>\n",
       "    </tr>\n",
       "    <tr>\n",
       "      <th>53</th>\n",
       "      <td>54</td>\n",
       "      <td>mazda rx-4</td>\n",
       "      <td>0</td>\n",
       "      <td>166.8</td>\n",
       "      <td>64.2</td>\n",
       "      <td>54.1</td>\n",
       "      <td>1945</td>\n",
       "      <td>four</td>\n",
       "      <td>91.0</td>\n",
       "      <td>68.0</td>\n",
       "      <td>31</td>\n",
       "      <td>38</td>\n",
       "      <td>-0.945317</td>\n",
       "    </tr>\n",
       "    <tr>\n",
       "      <th>59</th>\n",
       "      <td>60</td>\n",
       "      <td>mazda 626</td>\n",
       "      <td>0</td>\n",
       "      <td>177.8</td>\n",
       "      <td>66.5</td>\n",
       "      <td>53.7</td>\n",
       "      <td>2385</td>\n",
       "      <td>four</td>\n",
       "      <td>122.0</td>\n",
       "      <td>84.0</td>\n",
       "      <td>26</td>\n",
       "      <td>32</td>\n",
       "      <td>-0.274317</td>\n",
       "    </tr>\n",
       "    <tr>\n",
       "      <th>62</th>\n",
       "      <td>63</td>\n",
       "      <td>mazda rx-4</td>\n",
       "      <td>0</td>\n",
       "      <td>177.8</td>\n",
       "      <td>66.5</td>\n",
       "      <td>55.5</td>\n",
       "      <td>2410</td>\n",
       "      <td>four</td>\n",
       "      <td>122.0</td>\n",
       "      <td>84.0</td>\n",
       "      <td>26</td>\n",
       "      <td>32</td>\n",
       "      <td>-0.236192</td>\n",
       "    </tr>\n",
       "    <tr>\n",
       "      <th>67</th>\n",
       "      <td>68</td>\n",
       "      <td>buick electra 225 custom</td>\n",
       "      <td>1</td>\n",
       "      <td>190.9</td>\n",
       "      <td>70.3</td>\n",
       "      <td>56.5</td>\n",
       "      <td>3515</td>\n",
       "      <td>five</td>\n",
       "      <td>183.0</td>\n",
       "      <td>123.0</td>\n",
       "      <td>22</td>\n",
       "      <td>25</td>\n",
       "      <td>1.448933</td>\n",
       "    </tr>\n",
       "    <tr>\n",
       "      <th>78</th>\n",
       "      <td>79</td>\n",
       "      <td>mitsubishi outlander</td>\n",
       "      <td>0</td>\n",
       "      <td>157.3</td>\n",
       "      <td>64.4</td>\n",
       "      <td>50.8</td>\n",
       "      <td>2004</td>\n",
       "      <td>four</td>\n",
       "      <td>92.0</td>\n",
       "      <td>68.0</td>\n",
       "      <td>31</td>\n",
       "      <td>38</td>\n",
       "      <td>-0.855342</td>\n",
       "    </tr>\n",
       "    <tr>\n",
       "      <th>84</th>\n",
       "      <td>85</td>\n",
       "      <td>mitsubishi mirage g4</td>\n",
       "      <td>0</td>\n",
       "      <td>173.2</td>\n",
       "      <td>66.3</td>\n",
       "      <td>50.2</td>\n",
       "      <td>2926</td>\n",
       "      <td>four</td>\n",
       "      <td>156.0</td>\n",
       "      <td>145.0</td>\n",
       "      <td>19</td>\n",
       "      <td>24</td>\n",
       "      <td>0.550708</td>\n",
       "    </tr>\n",
       "    <tr>\n",
       "      <th>87</th>\n",
       "      <td>88</td>\n",
       "      <td>mitsubishi outlander</td>\n",
       "      <td>0</td>\n",
       "      <td>172.4</td>\n",
       "      <td>65.4</td>\n",
       "      <td>51.6</td>\n",
       "      <td>2403</td>\n",
       "      <td>four</td>\n",
       "      <td>110.0</td>\n",
       "      <td>116.0</td>\n",
       "      <td>23</td>\n",
       "      <td>30</td>\n",
       "      <td>-0.246867</td>\n",
       "    </tr>\n",
       "    <tr>\n",
       "      <th>88</th>\n",
       "      <td>89</td>\n",
       "      <td>mitsubishi mirage g4</td>\n",
       "      <td>0</td>\n",
       "      <td>172.4</td>\n",
       "      <td>65.4</td>\n",
       "      <td>51.6</td>\n",
       "      <td>2403</td>\n",
       "      <td>four</td>\n",
       "      <td>110.0</td>\n",
       "      <td>116.0</td>\n",
       "      <td>23</td>\n",
       "      <td>30</td>\n",
       "      <td>-0.246867</td>\n",
       "    </tr>\n",
       "    <tr>\n",
       "      <th>104</th>\n",
       "      <td>105</td>\n",
       "      <td>nissan teana</td>\n",
       "      <td>0</td>\n",
       "      <td>170.7</td>\n",
       "      <td>67.9</td>\n",
       "      <td>49.7</td>\n",
       "      <td>3071</td>\n",
       "      <td>six</td>\n",
       "      <td>181.0</td>\n",
       "      <td>160.0</td>\n",
       "      <td>19</td>\n",
       "      <td>25</td>\n",
       "      <td>0.771833</td>\n",
       "    </tr>\n",
       "    <tr>\n",
       "      <th>123</th>\n",
       "      <td>124</td>\n",
       "      <td>plymouth valiant</td>\n",
       "      <td>0</td>\n",
       "      <td>174.6</td>\n",
       "      <td>64.6</td>\n",
       "      <td>59.8</td>\n",
       "      <td>2535</td>\n",
       "      <td>four</td>\n",
       "      <td>122.0</td>\n",
       "      <td>88.0</td>\n",
       "      <td>24</td>\n",
       "      <td>30</td>\n",
       "      <td>-0.045567</td>\n",
       "    </tr>\n",
       "    <tr>\n",
       "      <th>136</th>\n",
       "      <td>137</td>\n",
       "      <td>saab 99gle</td>\n",
       "      <td>0</td>\n",
       "      <td>186.6</td>\n",
       "      <td>66.5</td>\n",
       "      <td>56.1</td>\n",
       "      <td>2808</td>\n",
       "      <td>four</td>\n",
       "      <td>NaN</td>\n",
       "      <td>160.0</td>\n",
       "      <td>19</td>\n",
       "      <td>26</td>\n",
       "      <td>0.370758</td>\n",
       "    </tr>\n",
       "    <tr>\n",
       "      <th>137</th>\n",
       "      <td>138</td>\n",
       "      <td>saab 99e</td>\n",
       "      <td>0</td>\n",
       "      <td>186.6</td>\n",
       "      <td>66.5</td>\n",
       "      <td>56.1</td>\n",
       "      <td>2847</td>\n",
       "      <td>four</td>\n",
       "      <td>121.0</td>\n",
       "      <td>160.0</td>\n",
       "      <td>19</td>\n",
       "      <td>26</td>\n",
       "      <td>0.430233</td>\n",
       "    </tr>\n",
       "    <tr>\n",
       "      <th>141</th>\n",
       "      <td>142</td>\n",
       "      <td>subaru</td>\n",
       "      <td>0</td>\n",
       "      <td>172.0</td>\n",
       "      <td>65.4</td>\n",
       "      <td>52.5</td>\n",
       "      <td>2145</td>\n",
       "      <td>four</td>\n",
       "      <td>108.0</td>\n",
       "      <td>82.0</td>\n",
       "      <td>32</td>\n",
       "      <td>37</td>\n",
       "      <td>-0.640317</td>\n",
       "    </tr>\n",
       "    <tr>\n",
       "      <th>149</th>\n",
       "      <td>150</td>\n",
       "      <td>subaru dl</td>\n",
       "      <td>0</td>\n",
       "      <td>173.6</td>\n",
       "      <td>65.4</td>\n",
       "      <td>54.9</td>\n",
       "      <td>2650</td>\n",
       "      <td>four</td>\n",
       "      <td>108.0</td>\n",
       "      <td>111.0</td>\n",
       "      <td>23</td>\n",
       "      <td>23</td>\n",
       "      <td>0.129808</td>\n",
       "    </tr>\n",
       "    <tr>\n",
       "      <th>181</th>\n",
       "      <td>182</td>\n",
       "      <td>toyouta tercel</td>\n",
       "      <td>0</td>\n",
       "      <td>187.8</td>\n",
       "      <td>66.5</td>\n",
       "      <td>54.1</td>\n",
       "      <td>3151</td>\n",
       "      <td>six</td>\n",
       "      <td>161.0</td>\n",
       "      <td>156.0</td>\n",
       "      <td>19</td>\n",
       "      <td>24</td>\n",
       "      <td>0.893833</td>\n",
       "    </tr>\n",
       "    <tr>\n",
       "      <th>189</th>\n",
       "      <td>190</td>\n",
       "      <td>vw dasher</td>\n",
       "      <td>0</td>\n",
       "      <td>159.3</td>\n",
       "      <td>64.2</td>\n",
       "      <td>55.6</td>\n",
       "      <td>2254</td>\n",
       "      <td>four</td>\n",
       "      <td>109.0</td>\n",
       "      <td>90.0</td>\n",
       "      <td>24</td>\n",
       "      <td>29</td>\n",
       "      <td>-0.474092</td>\n",
       "    </tr>\n",
       "  </tbody>\n",
       "</table>\n",
       "</div>"
      ],
      "text/plain": [
       "     car_ID                    CarName  fueltype  carlength  carwidth  \\\n",
       "4         5                 audi 100ls         0      176.6      66.4   \n",
       "29       30  dodge coronet custom (sw)         0      173.2      66.3   \n",
       "31       32           honda civic cvcc         0      144.6      63.9   \n",
       "52       53            mazda rx2 coupe         0      159.1      64.2   \n",
       "53       54                 mazda rx-4         0      166.8      64.2   \n",
       "59       60                  mazda 626         0      177.8      66.5   \n",
       "62       63                 mazda rx-4         0      177.8      66.5   \n",
       "67       68   buick electra 225 custom         1      190.9      70.3   \n",
       "78       79       mitsubishi outlander         0      157.3      64.4   \n",
       "84       85       mitsubishi mirage g4         0      173.2      66.3   \n",
       "87       88       mitsubishi outlander         0      172.4      65.4   \n",
       "88       89       mitsubishi mirage g4         0      172.4      65.4   \n",
       "104     105               nissan teana         0      170.7      67.9   \n",
       "123     124           plymouth valiant         0      174.6      64.6   \n",
       "136     137                 saab 99gle         0      186.6      66.5   \n",
       "137     138                   saab 99e         0      186.6      66.5   \n",
       "141     142                     subaru         0      172.0      65.4   \n",
       "149     150                  subaru dl         0      173.6      65.4   \n",
       "181     182             toyouta tercel         0      187.8      66.5   \n",
       "189     190                  vw dasher         0      159.3      64.2   \n",
       "\n",
       "     carheight  curbweight cylindernumber  enginesize  horsepower  citympg  \\\n",
       "4         54.3        2824           five       136.0       115.0       18   \n",
       "29        50.2        2811           four       156.0       145.0       19   \n",
       "31        50.8        1819           four        92.0        76.0       31   \n",
       "52        54.1        1905           four        91.0        68.0       31   \n",
       "53        54.1        1945           four        91.0        68.0       31   \n",
       "59        53.7        2385           four       122.0        84.0       26   \n",
       "62        55.5        2410           four       122.0        84.0       26   \n",
       "67        56.5        3515           five       183.0       123.0       22   \n",
       "78        50.8        2004           four        92.0        68.0       31   \n",
       "84        50.2        2926           four       156.0       145.0       19   \n",
       "87        51.6        2403           four       110.0       116.0       23   \n",
       "88        51.6        2403           four       110.0       116.0       23   \n",
       "104       49.7        3071            six       181.0       160.0       19   \n",
       "123       59.8        2535           four       122.0        88.0       24   \n",
       "136       56.1        2808           four         NaN       160.0       19   \n",
       "137       56.1        2847           four       121.0       160.0       19   \n",
       "141       52.5        2145           four       108.0        82.0       32   \n",
       "149       54.9        2650           four       108.0       111.0       23   \n",
       "181       54.1        3151            six       161.0       156.0       19   \n",
       "189       55.6        2254           four       109.0        90.0       24   \n",
       "\n",
       "     highwaympg     price  \n",
       "4            22  0.395158  \n",
       "29           24  0.375333  \n",
       "31           38 -1.137467  \n",
       "52           38 -1.006317  \n",
       "53           38 -0.945317  \n",
       "59           32 -0.274317  \n",
       "62           32 -0.236192  \n",
       "67           25  1.448933  \n",
       "78           38 -0.855342  \n",
       "84           24  0.550708  \n",
       "87           30 -0.246867  \n",
       "88           30 -0.246867  \n",
       "104          25  0.771833  \n",
       "123          30 -0.045567  \n",
       "136          26  0.370758  \n",
       "137          26  0.430233  \n",
       "141          37 -0.640317  \n",
       "149          23  0.129808  \n",
       "181          24  0.893833  \n",
       "189          29 -0.474092  "
      ]
     },
     "execution_count": 40,
     "metadata": {},
     "output_type": "execute_result"
    }
   ],
   "source": [
    "NaNPriceDF[\"price\"] = linearEquationCurb3(NaNPriceDF[\"curbweight\"])\n",
    "NaNPriceDF"
   ]
  },
  {
   "cell_type": "markdown",
   "metadata": {},
   "source": [
    "در نهایت مقادیر حاصل از curbweight مد نظر ما خواهد بود.\n",
    "\n",
    "با استفاده روش گفته شده در این پروژه می توان به تابع تخمینی با MSE کم تر از 0.5 رسید و قیمت ها را پیش بینی کرد.\n",
    "\n",
    "می توان با داشتن مقادیر واقعی قیمت های نامشخص بررسی کرد که تابع تخمین تا چه حد در واقعیت می تواند درست عمل کند."
   ]
  },
  {
   "cell_type": "markdown",
   "metadata": {},
   "source": [
    "برای پیدا کردن توابع کتابخانه pandas و matplotlib به documentation آن ها مراجعه شده است."
   ]
  },
  {
   "cell_type": "code",
   "execution_count": 41,
   "metadata": {},
   "outputs": [
    {
     "data": {
      "text/html": [
       "<style>.text_cell .rendered_html * {direction: rtl; text-align: right;}</style>\n"
      ],
      "text/plain": [
       "<IPython.core.display.HTML object>"
      ]
     },
     "metadata": {},
     "output_type": "display_data"
    }
   ],
   "source": [
    "%%html\n",
    "<style>.text_cell .rendered_html * {direction: rtl; text-align: right;}</style>"
   ]
  }
 ],
 "metadata": {
  "kernelspec": {
   "display_name": "Python 3",
   "language": "python",
   "name": "python3"
  },
  "language_info": {
   "codemirror_mode": {
    "name": "ipython",
    "version": 3
   },
   "file_extension": ".py",
   "mimetype": "text/x-python",
   "name": "python",
   "nbconvert_exporter": "python",
   "pygments_lexer": "ipython3",
   "version": "3.7.3"
  }
 },
 "nbformat": 4,
 "nbformat_minor": 2
}
